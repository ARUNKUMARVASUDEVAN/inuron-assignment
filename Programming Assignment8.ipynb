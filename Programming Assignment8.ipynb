{
 "cells": [
  {
   "cell_type": "markdown",
   "id": "b5d98447",
   "metadata": {},
   "source": [
    "1. Write a Python Program to Add Two Matrices?"
   ]
  },
  {
   "cell_type": "code",
   "execution_count": 1,
   "id": "e0b093e5",
   "metadata": {},
   "outputs": [
    {
     "name": "stdout",
     "output_type": "stream",
     "text": [
      "[[11, 13, 15], [17, 19, 21], [23, 25, 27]]\n"
     ]
    }
   ],
   "source": [
    "# function to add two matrices\n",
    "def add_matrices(X, Y):\n",
    "    # create a result matrix with the same dimensions as the input matrices\n",
    "    result = [[0 for j in range(len(X[0]))] for i in range(len(X))]\n",
    "    # iterate over each element in the matrices and add them\n",
    "    for i in range(len(X)):\n",
    "        for j in range(len(X[0])):\n",
    "            result[i][j] = X[i][j] + Y[i][j]\n",
    "    return result\n",
    "\n",
    "# example usage\n",
    "X = [[1,2,3],\n",
    "     [4,5,6],\n",
    "     [7,8,9]]\n",
    "\n",
    "Y = [[10,11,12],\n",
    "     [13,14,15],\n",
    "     [16,17,18]]\n",
    "\n",
    "result = add_matrices(X, Y)\n",
    "print(result)\n"
   ]
  },
  {
   "cell_type": "markdown",
   "id": "a34d8220",
   "metadata": {},
   "source": [
    "2. Write a Python Program to Multiply Two Matrices?"
   ]
  },
  {
   "cell_type": "code",
   "execution_count": 2,
   "id": "3338d2a1",
   "metadata": {},
   "outputs": [
    {
     "name": "stdout",
     "output_type": "stream",
     "text": [
      "Result of matrix multiplication:\n",
      "[30, 24, 18]\n",
      "[84, 69, 54]\n",
      "[138, 114, 90]\n"
     ]
    }
   ],
   "source": [
    "# function to multiply two matrices\n",
    "def multiply_matrices(mat1, mat2):\n",
    "    # get the number of rows and columns of the matrices\n",
    "    row1 = len(mat1)\n",
    "    col1 = len(mat1[0])\n",
    "    row2 = len(mat2)\n",
    "    col2 = len(mat2[0])\n",
    "    \n",
    "    # check if matrices can be multiplied\n",
    "    if col1 != row2:\n",
    "        print(\"Matrices can't be multiplied!\")\n",
    "        return\n",
    "    \n",
    "    # initialize the result matrix\n",
    "    result = [[0 for j in range(col2)] for i in range(row1)]\n",
    "    \n",
    "    # perform multiplication\n",
    "    for i in range(row1):\n",
    "        for j in range(col2):\n",
    "            for k in range(col1):\n",
    "                result[i][j] += mat1[i][k] * mat2[k][j]\n",
    "    \n",
    "    return result\n",
    "\n",
    "\n",
    "# example matrices\n",
    "mat1 = [[1, 2, 3], [4, 5, 6], [7, 8, 9]]\n",
    "mat2 = [[9, 8, 7], [6, 5, 4], [3, 2, 1]]\n",
    "\n",
    "# call the function and print the result\n",
    "result = multiply_matrices(mat1, mat2)\n",
    "if result:\n",
    "    print(\"Result of matrix multiplication:\")\n",
    "    for row in result:\n",
    "        print(row)\n"
   ]
  },
  {
   "cell_type": "markdown",
   "id": "89091efa",
   "metadata": {},
   "source": [
    "3. Write a Python Program to Transpose a Matrix?"
   ]
  },
  {
   "cell_type": "code",
   "execution_count": 3,
   "id": "44d724bf",
   "metadata": {},
   "outputs": [
    {
     "name": "stdout",
     "output_type": "stream",
     "text": [
      "Original matrix:\n",
      "[1, 2, 3]\n",
      "[4, 5, 6]\n",
      "[7, 8, 9]\n",
      "Transposed matrix:\n",
      "[1, 4, 7]\n",
      "[2, 5, 8]\n",
      "[3, 6, 9]\n"
     ]
    }
   ],
   "source": [
    "# function to print a matrix\n",
    "def print_matrix(matrix):\n",
    "    for row in matrix:\n",
    "        print(row)\n",
    "\n",
    "# function to transpose a matrix\n",
    "def transpose_matrix(matrix):\n",
    "    # create an empty result matrix with swapped rows and columns\n",
    "    result = [[0 for j in range(len(matrix))] for i in range(len(matrix[0]))]\n",
    "    \n",
    "    # copy values from original matrix to result matrix, swapping rows and columns\n",
    "    for i in range(len(matrix)):\n",
    "        for j in range(len(matrix[0])):\n",
    "            result[j][i] = matrix[i][j]\n",
    "    \n",
    "    return result\n",
    "\n",
    "# example usage\n",
    "matrix = [[1, 2, 3], [4, 5, 6], [7, 8, 9]]\n",
    "print(\"Original matrix:\")\n",
    "print_matrix(matrix)\n",
    "\n",
    "print(\"Transposed matrix:\")\n",
    "transposed = transpose_matrix(matrix)\n",
    "print_matrix(transposed)\n"
   ]
  },
  {
   "cell_type": "markdown",
   "id": "ee8c18ac",
   "metadata": {},
   "source": [
    "4. Write a Python Program to Sort Words in Alphabetic Order?"
   ]
  },
  {
   "cell_type": "code",
   "execution_count": 4,
   "id": "0c65ed3f",
   "metadata": {},
   "outputs": [
    {
     "name": "stdout",
     "output_type": "stream",
     "text": [
      "Enter a sentence: sfffsdf\n",
      "Sorted words: \n",
      "sfffsdf\n"
     ]
    }
   ],
   "source": [
    "words = input(\"Enter a sentence: \").split()\n",
    "words.sort()\n",
    "print(\"Sorted words: \")\n",
    "for word in words:\n",
    "    print(word)\n"
   ]
  },
  {
   "cell_type": "markdown",
   "id": "e208d2d7",
   "metadata": {},
   "source": [
    "5. Write a Python Program to Remove Punctuation From a String?"
   ]
  },
  {
   "cell_type": "code",
   "execution_count": 5,
   "id": "2c0069a4",
   "metadata": {},
   "outputs": [
    {
     "name": "stdout",
     "output_type": "stream",
     "text": [
      "Hello World This is a sample input string\n"
     ]
    }
   ],
   "source": [
    "import string\n",
    "\n",
    "def remove_punctuation(input_string):\n",
    "    \"\"\"Remove punctuation from a string\"\"\"\n",
    "    translator = str.maketrans('', '', string.punctuation)\n",
    "    return input_string.translate(translator)\n",
    "\n",
    "# Example usage\n",
    "input_string = \"Hello, World! This is a sample input string.\"\n",
    "output_string = remove_punctuation(input_string)\n",
    "print(output_string)\n"
   ]
  }
 ],
 "metadata": {
  "kernelspec": {
   "display_name": "Python 3 (ipykernel)",
   "language": "python",
   "name": "python3"
  },
  "language_info": {
   "codemirror_mode": {
    "name": "ipython",
    "version": 3
   },
   "file_extension": ".py",
   "mimetype": "text/x-python",
   "name": "python",
   "nbconvert_exporter": "python",
   "pygments_lexer": "ipython3",
   "version": "3.9.13"
  }
 },
 "nbformat": 4,
 "nbformat_minor": 5
}
