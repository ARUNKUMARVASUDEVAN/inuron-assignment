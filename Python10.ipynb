{
 "cells": [
  {
   "attachments": {},
   "cell_type": "markdown",
   "metadata": {},
   "source": [
    "Q1. What is the difference between __getattr__ and __getattribute__?"
   ]
  },
  {
   "attachments": {},
   "cell_type": "markdown",
   "metadata": {},
   "source": [
    "The main difference between `__getattr__` and `__getattribute__` in Python is their invocation and behavior when accessing attributes of an object.\n",
    "\n",
    "1. `__getattr__(self, name)`:\n",
    "   - `__getattr__` is invoked only when the requested attribute is not found through normal attribute lookup.\n",
    "   - It is a fallback method that gets called after the default attribute lookup mechanism fails.\n",
    "   - This method takes two parameters: `self` (the instance) and `name` (the name of the attribute being accessed).\n",
    "   - You can define `__getattr__` in a class to dynamically handle attribute access and provide custom behavior or return values.\n",
    "   - `__getattr__` is not called for attributes that actually exist in the object or its classes. It is only invoked when the attribute is not found through normal attribute lookup.\n",
    "\n",
    "2. `__getattribute__(self, name)`:\n",
    "   - `__getattribute__` is called for every attribute access, whether the attribute exists or not.\n",
    "   - It is a more general method that gets invoked before the default attribute lookup mechanism.\n",
    "   - This method takes two parameters: `self` (the instance) and `name` (the name of the attribute being accessed).\n",
    "   - You can define `__getattribute__` in a class to intercept all attribute access and customize the behavior.\n",
    "   - When defining `__getattribute__`, you need to be cautious to avoid recursive calls by using the base class's `__getattribute__` method to access attributes within the method.\n",
    "   - `__getattribute__` is called even for existing attributes, so it allows you to intercept and modify attribute access behavior for all attributes.\n",
    "\n",
    "In summary, the key distinction between `__getattr__` and `__getattribute__` is that `__getattr__` is called only when an attribute is not found through normal attribute lookup, while `__getattribute__` is called for every attribute access, regardless of whether the attribute exists or not. `__getattr__` provides a fallback mechanism for attribute access, while `__getattribute__` allows you to intercept and customize attribute access behavior for all attributes."
   ]
  },
  {
   "attachments": {},
   "cell_type": "markdown",
   "metadata": {},
   "source": [
    "Q2. What is the difference between properties and descriptors?"
   ]
  },
  {
   "attachments": {},
   "cell_type": "markdown",
   "metadata": {},
   "source": [
    "Properties and descriptors are both mechanisms in Python that allow you to define and control attribute access, but they differ in their level of abstraction and usage.\n",
    "\n",
    "1. Properties:\n",
    "   - Properties are a high-level way to define attribute accessors (getters and setters) in Python classes.\n",
    "   - They provide a simple and convenient way to add custom behavior to attribute access and modification without changing the class's interface.\n",
    "   - Properties are defined using the `@property`, `@<attribute>.setter`, and `@<attribute>.deleter` decorators.\n",
    "   - The `@property` decorator is used to define a getter method for an attribute.\n",
    "   - The `@<attribute>.setter` decorator is used to define a setter method for an attribute.\n",
    "   - The `@<attribute>.deleter` decorator is used to define a deleter method for an attribute.\n",
    "   - Properties are accessed and assigned like regular attributes, but behind the scenes, the defined getter, setter, and deleter methods are called.\n",
    "   - Properties provide a way to encapsulate the attribute access logic and allow for additional computation or validation when accessing or modifying the attribute.\n",
    "\n",
    "2. Descriptors:\n",
    "   - Descriptors are a lower-level protocol that allows you to define attribute access and modification at the class level.\n",
    "   - Descriptors are objects that define methods like `__get__`, `__set__`, and `__delete__` to control attribute access.\n",
    "   - A descriptor can be assigned to a class attribute, and when that attribute is accessed, the descriptor's methods are called instead of the class's regular attribute access mechanism.\n",
    "   - Descriptors can be used to implement computed attributes, type checking, data validation, or other customized attribute behavior.\n",
    "   - Descriptors provide fine-grained control over attribute access at the class level and can be shared by multiple attributes or classes.\n",
    "   - Descriptors can be used directly by creating descriptor classes or by using the `property` built-in function to define descriptors inline.\n",
    "\n",
    "In summary, properties provide a higher-level and more convenient way to define attribute accessors with decorators, while descriptors offer a lower-level protocol to customize attribute access and modification at the class level using methods. Properties are often used for simple attribute access control and encapsulation, while descriptors provide more flexibility and control over attribute behavior and can be shared across multiple attributes or classes."
   ]
  },
  {
   "attachments": {},
   "cell_type": "markdown",
   "metadata": {},
   "source": [
    "Q3. What are the key differences in functionality between __getattr__ and __getattribute__, as well as\n",
    "properties and descriptors?"
   ]
  },
  {
   "attachments": {},
   "cell_type": "markdown",
   "metadata": {},
   "source": [
    "The key differences in functionality between `__getattr__`, `__getattribute__`, properties, and descriptors are as follows:\n",
    "\n",
    "1. `__getattr__` vs. `__getattribute__`:\n",
    "   - `__getattr__` is called only when the requested attribute is not found through normal attribute lookup. It acts as a fallback method for attribute access.\n",
    "   - `__getattribute__` is called for every attribute access, regardless of whether the attribute exists or not. It intercepts all attribute access and allows you to customize the behavior.\n",
    "   - `__getattr__` is commonly used to handle the retrieval of non-existent attributes or implement dynamic attribute access.\n",
    "   - `__getattribute__` can be used to intercept and customize attribute access for all attributes, including existing ones. However, it requires careful implementation to avoid recursive calls.\n",
    "\n",
    "2. Properties vs. Descriptors:\n",
    "   - Properties provide a high-level way to define attribute accessors (getters and setters) in Python classes.\n",
    "   - Properties use the `@property`, `@<attribute>.setter`, and `@<attribute>.deleter` decorators to define getter, setter, and deleter methods.\n",
    "   - Properties are accessed and assigned like regular attributes, but behind the scenes, the defined methods are called.\n",
    "   - Properties encapsulate attribute access logic and allow for additional computation or validation during access or modification.\n",
    "   - Descriptors provide a lower-level protocol for attribute access and modification control at the class level.\n",
    "   - Descriptors are objects that define `__get__`, `__set__`, and `__delete__` methods to control attribute access.\n",
    "   - Descriptors can be assigned to class attributes and are called when accessing those attributes, overriding the regular attribute access mechanism.\n",
    "   - Descriptors offer more flexibility and fine-grained control over attribute behavior at the class level, allowing shared behavior across multiple attributes or classes.\n",
    "\n",
    "In summary, `__getattr__` and `__getattribute__` differ in their invocation and behavior for attribute access, with the former acting as a fallback method and the latter intercepting all attribute access. Properties provide a higher-level way to define attribute accessors and encapsulate attribute behavior, while descriptors offer a lower-level protocol for attribute access control at the class level with fine-grained customization."
   ]
  },
  {
   "attachments": {},
   "cell_type": "markdown",
   "metadata": {},
   "source": []
  }
 ],
 "metadata": {
  "language_info": {
   "name": "python"
  },
  "orig_nbformat": 4
 },
 "nbformat": 4,
 "nbformat_minor": 2
}
