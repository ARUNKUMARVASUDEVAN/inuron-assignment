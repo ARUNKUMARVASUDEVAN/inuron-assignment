{
 "cells": [
  {
   "attachments": {},
   "cell_type": "markdown",
   "metadata": {},
   "source": [
    "<aside>\n",
    "💡 **Question 1**\n",
    "\n",
    "Given a non-negative integer `x`, return *the square root of* `x` *rounded down to the nearest integer*. The returned integer should be **non-negative** as well.\n",
    "\n",
    "You **must not use** any built-in exponent function or operator.\n",
    "\n",
    "- For example, do not use `pow(x, 0.5)` in c++ or `x ** 0.5` in python.\n",
    "\n",
    "**Example 1:**\n",
    "\n",
    "```\n",
    "Input: x = 4\n",
    "Output: 2\n",
    "Explanation: The square root of 4 is 2, so we return 2.\n",
    "\n",
    "```\n",
    "\n",
    "**Example 2:**\n",
    "\n",
    "</aside>"
   ]
  },
  {
   "cell_type": "code",
   "execution_count": 1,
   "metadata": {},
   "outputs": [
    {
     "name": "stdout",
     "output_type": "stream",
     "text": [
      "Input: 4\n",
      "Square Root: 2\n",
      "\n",
      "Input: 8\n",
      "Square Root: 2\n"
     ]
    }
   ],
   "source": [
    "def mySqrt(x):\n",
    "    if x == 0:\n",
    "        return 0\n",
    "\n",
    "    # Set the search range for the square root\n",
    "    left, right = 1, x\n",
    "\n",
    "    # Perform binary search to find the square root\n",
    "    while left <= right:\n",
    "        mid = left + (right - left) // 2\n",
    "        square = mid * mid\n",
    "\n",
    "        if square == x:\n",
    "            return mid\n",
    "        elif square < x:\n",
    "            left = mid + 1\n",
    "        else:\n",
    "            right = mid - 1\n",
    "\n",
    "    # Return the integer value whose square is closest to x\n",
    "    return right\n",
    "\n",
    "# Test the function\n",
    "x = 4\n",
    "print(\"Input:\", x)\n",
    "print(\"Square Root:\", mySqrt(x))\n",
    "\n",
    "x = 8\n",
    "print(\"\\nInput:\", x)\n",
    "print(\"Square Root:\", mySqrt(x))\n"
   ]
  },
  {
   "attachments": {},
   "cell_type": "markdown",
   "metadata": {},
   "source": [
    "<aside>\n",
    "💡 **Question 2**\n",
    "\n",
    "A peak element is an element that is strictly greater than its neighbors.\n",
    "\n",
    "Given a **0-indexed** integer array `nums`, find a peak element, and return its index. If the array contains multiple peaks, return the index to **any of the peaks**.\n",
    "\n",
    "You may imagine that `nums[-1] = nums[n] = -∞`. In other words, an element is always considered to be strictly greater than a neighbor that is outside the array.\n",
    "\n",
    "You must write an algorithm that runs in `O(log n)` time.\n",
    "\n",
    "**Example 1:**\n",
    "\n",
    "```\n",
    "Input: nums = [1,2,3,1]\n",
    "Output: 2\n",
    "Explanation: 3 is a peak element and your function should return the index number 2.\n",
    "```\n",
    "\n",
    "**Example 2:**\n",
    "\n",
    "</aside>"
   ]
  },
  {
   "cell_type": "code",
   "execution_count": 2,
   "metadata": {},
   "outputs": [
    {
     "name": "stdout",
     "output_type": "stream",
     "text": [
      "Input: [1, 2, 3, 1]\n",
      "Peak Element Index: 2\n",
      "\n",
      "Input: [1, 2, 1, 3, 5, 6, 4]\n",
      "Peak Element Index: 5\n"
     ]
    }
   ],
   "source": [
    "def findPeakElement(nums):\n",
    "    left = 0\n",
    "    right = len(nums) - 1\n",
    "\n",
    "    while left < right:\n",
    "        mid = left + (right - left) // 2\n",
    "\n",
    "        if nums[mid] > nums[mid + 1]:\n",
    "            right = mid\n",
    "        else:\n",
    "            left = mid + 1\n",
    "\n",
    "    return left\n",
    "\n",
    "# Test the function\n",
    "nums = [1, 2, 3, 1]\n",
    "print(\"Input:\", nums)\n",
    "print(\"Peak Element Index:\", findPeakElement(nums))\n",
    "\n",
    "nums = [1, 2, 1, 3, 5, 6, 4]\n",
    "print(\"\\nInput:\", nums)\n",
    "print(\"Peak Element Index:\", findPeakElement(nums))\n"
   ]
  },
  {
   "attachments": {},
   "cell_type": "markdown",
   "metadata": {},
   "source": [
    "Given an array `nums` containing `n` distinct numbers in the range `[0, n]`, return *the only number in the range that is missing from the array.*\n",
    "\n",
    "**Example 1:**\n",
    "\n",
    "```\n",
    "Input: nums = [3,0,1]\n",
    "Output: 2\n",
    "Explanation: n = 3 since there are 3 numbers, so all numbers are in the range [0,3]. 2 is the missing number in the range since it does not appear in nums.\n",
    "\n",
    "```\n",
    "\n",
    "**Example 2:**\n",
    "\n",
    "```\n",
    "Input: nums = [0,1]\n",
    "Output: 2\n",
    "Explanation: n = 2 since there are 2 numbers, so all numbers are in the range [0,2]. 2 is the missing number in the range since it does not appear in nums.\n",
    "\n",
    "```\n",
    "\n",
    "**Example 3:**"
   ]
  },
  {
   "cell_type": "code",
   "execution_count": 3,
   "metadata": {},
   "outputs": [
    {
     "name": "stdout",
     "output_type": "stream",
     "text": [
      "Input: [3, 0, 1]\n",
      "Missing Number: 2\n",
      "\n",
      "Input: [0, 1]\n",
      "Missing Number: 2\n"
     ]
    }
   ],
   "source": [
    "def missingNumber(nums):\n",
    "    n = len(nums)\n",
    "    expected_sum = (n * (n + 1)) // 2\n",
    "    actual_sum = sum(nums)\n",
    "    return expected_sum - actual_sum\n",
    "\n",
    "# Test the function\n",
    "nums = [3, 0, 1]\n",
    "print(\"Input:\", nums)\n",
    "print(\"Missing Number:\", missingNumber(nums))\n",
    "\n",
    "nums = [0, 1]\n",
    "print(\"\\nInput:\", nums)\n",
    "print(\"Missing Number:\", missingNumber(nums))\n"
   ]
  },
  {
   "attachments": {},
   "cell_type": "markdown",
   "metadata": {},
   "source": [
    "<aside>\n",
    "💡 **Question 4**\n",
    "\n",
    "Given an array of integers `nums` containing `n + 1` integers where each integer is in the range `[1, n]` inclusive.\n",
    "\n",
    "There is only **one repeated number** in `nums`, return *this repeated number*.\n",
    "\n",
    "You must solve the problem **without** modifying the array `nums` and uses only constant extra space.\n",
    "\n",
    "**Example 1:**\n",
    "\n",
    "```\n",
    "Input: nums = [1,3,4,2,2]\n",
    "Output: 2\n",
    "\n",
    "```\n",
    "\n",
    "**Example 2:**\n",
    "\n",
    "</aside>"
   ]
  },
  {
   "cell_type": "code",
   "execution_count": 4,
   "metadata": {},
   "outputs": [
    {
     "name": "stdout",
     "output_type": "stream",
     "text": [
      "Input: [1, 3, 4, 2, 2]\n",
      "Repeated Number: 2\n",
      "\n",
      "Input: [3, 1, 3, 4, 2]\n",
      "Repeated Number: 3\n"
     ]
    }
   ],
   "source": [
    "def findDuplicate(nums):\n",
    "    # Find the intersection point of the two pointers\n",
    "    slow = nums[0]\n",
    "    fast = nums[0]\n",
    "\n",
    "    while True:\n",
    "        slow = nums[slow]\n",
    "        fast = nums[nums[fast]]\n",
    "        if slow == fast:\n",
    "            break\n",
    "\n",
    "    # Move one pointer to the start of the array\n",
    "    slow = nums[0]\n",
    "\n",
    "    # Move both pointers at the same speed until they meet\n",
    "    while slow != fast:\n",
    "        slow = nums[slow]\n",
    "        fast = nums[fast]\n",
    "\n",
    "    return slow\n",
    "\n",
    "# Test the function\n",
    "nums = [1, 3, 4, 2, 2]\n",
    "print(\"Input:\", nums)\n",
    "print(\"Repeated Number:\", findDuplicate(nums))\n",
    "\n",
    "nums = [3, 1, 3, 4, 2]\n",
    "print(\"\\nInput:\", nums)\n",
    "print(\"Repeated Number:\", findDuplicate(nums))\n"
   ]
  },
  {
   "attachments": {},
   "cell_type": "markdown",
   "metadata": {},
   "source": [
    "<aside>\n",
    "💡 **Question 5**\n",
    "\n",
    "Given two integer arrays `nums1` and `nums2`, return *an array of their intersection*. Each element in the result must be **unique** and you may return the result in **any order**.\n",
    "\n",
    "**Example 1:**\n",
    "\n",
    "```\n",
    "Input: nums1 = [1,2,2,1], nums2 = [2,2]\n",
    "Output: [2]\n",
    "\n",
    "```\n",
    "\n",
    "**Example 2:**\n",
    "\n",
    "</aside>"
   ]
  },
  {
   "cell_type": "code",
   "execution_count": 5,
   "metadata": {},
   "outputs": [
    {
     "name": "stdout",
     "output_type": "stream",
     "text": [
      "Input: [1, 2, 2, 1] [2, 2]\n",
      "Intersection: [2]\n",
      "\n",
      "Input: [4, 9, 5] [9, 4, 9, 8, 4]\n",
      "Intersection: [9, 4]\n"
     ]
    }
   ],
   "source": [
    "def intersection(nums1, nums2):\n",
    "    set1 = set(nums1)\n",
    "    result = set()\n",
    "\n",
    "    for num in nums2:\n",
    "        if num in set1:\n",
    "            result.add(num)\n",
    "\n",
    "    return list(result)\n",
    "\n",
    "# Test the function\n",
    "nums1 = [1, 2, 2, 1]\n",
    "nums2 = [2, 2]\n",
    "print(\"Input:\", nums1, nums2)\n",
    "print(\"Intersection:\", intersection(nums1, nums2))\n",
    "\n",
    "nums1 = [4, 9, 5]\n",
    "nums2 = [9, 4, 9, 8, 4]\n",
    "print(\"\\nInput:\", nums1, nums2)\n",
    "print(\"Intersection:\", intersection(nums1, nums2))\n"
   ]
  },
  {
   "attachments": {},
   "cell_type": "markdown",
   "metadata": {},
   "source": [
    "Suppose an array of length `n` sorted in ascending order is **rotated** between `1` and `n` times. For example, the array `nums = [0,1,2,4,5,6,7]` might become:\n",
    "\n",
    "- `[4,5,6,7,0,1,2]` if it was rotated `4` times.\n",
    "- `[0,1,2,4,5,6,7]` if it was rotated `7` times.\n",
    "\n",
    "Notice that **rotating** an array `[a[0], a[1], a[2], ..., a[n-1]]` 1 time results in the array `[a[n-1], a[0], a[1], a[2], ..., a[n-2]]`.\n",
    "\n",
    "Given the sorted rotated array `nums` of **unique** elements, return *the minimum element of this array*.\n",
    "\n",
    "You must write an algorithm that runs in `O(log n) time.`\n",
    "\n",
    "**Example 1:**\n",
    "\n",
    "```\n",
    "Input: nums = [3,4,5,1,2]\n",
    "Output: 1\n",
    "Explanation: The original array was [1,2,3,4,5] rotated 3 times.\n",
    "\n",
    "```\n",
    "\n",
    "**Example 2:**"
   ]
  },
  {
   "cell_type": "code",
   "execution_count": 6,
   "metadata": {},
   "outputs": [
    {
     "name": "stdout",
     "output_type": "stream",
     "text": [
      "Input: [3, 4, 5, 1, 2]\n",
      "Minimum Element: 1\n",
      "\n",
      "Input: [4, 5, 6, 7, 0, 1, 2]\n",
      "Minimum Element: 0\n"
     ]
    }
   ],
   "source": [
    "def findMin(nums):\n",
    "    left = 0\n",
    "    right = len(nums) - 1\n",
    "\n",
    "    while left < right:\n",
    "        mid = left + (right - left) // 2\n",
    "\n",
    "        # Check if the middle element is greater than the last element\n",
    "        if nums[mid] > nums[right]:\n",
    "            left = mid + 1\n",
    "        # Check if the middle element is smaller than the last element\n",
    "        else:\n",
    "            right = mid\n",
    "\n",
    "    return nums[left]\n",
    "\n",
    "# Test the function\n",
    "nums = [3, 4, 5, 1, 2]\n",
    "print(\"Input:\", nums)\n",
    "print(\"Minimum Element:\", findMin(nums))\n",
    "\n",
    "nums = [4, 5, 6, 7, 0, 1, 2]\n",
    "print(\"\\nInput:\", nums)\n",
    "print(\"Minimum Element:\", findMin(nums))\n"
   ]
  },
  {
   "attachments": {},
   "cell_type": "markdown",
   "metadata": {},
   "source": [
    "Given an array of integers `nums` sorted in non-decreasing order, find the starting and ending position of a given `target` value.\n",
    "\n",
    "If `target` is not found in the array, return `[-1, -1]`.\n",
    "\n",
    "You must write an algorithm with `O(log n)` runtime complexity.\n",
    "\n",
    "**Example 1:**\n",
    "\n",
    "```\n",
    "Input: nums = [5,7,7,8,8,10], target = 8\n",
    "Output: [3,4]\n",
    "\n",
    "```\n",
    "\n",
    "**Example 2:**\n",
    "\n",
    "```\n",
    "Input: nums = [5,7,7,8,8,10], target = 6\n",
    "Output: [-1,-1]\n",
    "\n",
    "```\n",
    "\n",
    "**Example 3:**"
   ]
  },
  {
   "cell_type": "code",
   "execution_count": 7,
   "metadata": {},
   "outputs": [
    {
     "name": "stdout",
     "output_type": "stream",
     "text": [
      "Input: [5, 7, 7, 8, 8, 10] 8\n",
      "Range: [3, 4]\n",
      "\n",
      "Input: [5, 7, 7, 8, 8, 10] 6\n",
      "Range: [-1, -1]\n"
     ]
    }
   ],
   "source": [
    "def searchRange(nums, target):\n",
    "    # Find the leftmost occurrence of the target\n",
    "    left = findLeftmost(nums, target)\n",
    "\n",
    "    # If the leftmost occurrence is not found, return [-1, -1]\n",
    "    if left == -1:\n",
    "        return [-1, -1]\n",
    "\n",
    "    # Find the rightmost occurrence of the target\n",
    "    right = findRightmost(nums, target)\n",
    "\n",
    "    return [left, right]\n",
    "\n",
    "def findLeftmost(nums, target):\n",
    "    left = 0\n",
    "    right = len(nums) - 1\n",
    "    index = -1\n",
    "\n",
    "    while left <= right:\n",
    "        mid = left + (right - left) // 2\n",
    "\n",
    "        if nums[mid] >= target:\n",
    "            right = mid - 1\n",
    "        else:\n",
    "            left = mid + 1\n",
    "\n",
    "        if nums[mid] == target:\n",
    "            index = mid\n",
    "\n",
    "    return index\n",
    "\n",
    "def findRightmost(nums, target):\n",
    "    left = 0\n",
    "    right = len(nums) - 1\n",
    "    index = -1\n",
    "\n",
    "    while left <= right:\n",
    "        mid = left + (right - left) // 2\n",
    "\n",
    "        if nums[mid] <= target:\n",
    "            left = mid + 1\n",
    "        else:\n",
    "            right = mid - 1\n",
    "\n",
    "        if nums[mid] == target:\n",
    "            index = mid\n",
    "\n",
    "    return index\n",
    "\n",
    "# Test the function\n",
    "nums = [5, 7, 7, 8, 8, 10]\n",
    "target = 8\n",
    "print(\"Input:\", nums, target)\n",
    "print(\"Range:\", searchRange(nums, target))\n",
    "\n",
    "nums = [5, 7, 7, 8, 8, 10]\n",
    "target = 6\n",
    "print(\"\\nInput:\", nums, target)\n",
    "print(\"Range:\", searchRange(nums, target))\n"
   ]
  },
  {
   "cell_type": "markdown",
   "metadata": {},
   "source": []
  },
  {
   "cell_type": "markdown",
   "metadata": {},
   "source": []
  }
 ],
 "metadata": {
  "kernelspec": {
   "display_name": "Python 3",
   "language": "python",
   "name": "python3"
  },
  "language_info": {
   "codemirror_mode": {
    "name": "ipython",
    "version": 3
   },
   "file_extension": ".py",
   "mimetype": "text/x-python",
   "name": "python",
   "nbconvert_exporter": "python",
   "pygments_lexer": "ipython3",
   "version": "3.11.0"
  },
  "orig_nbformat": 4,
  "vscode": {
   "interpreter": {
    "hash": "c55f75d95e27789bb67f7d72ee8ffce962a8581e84a48cc7560e47730d41e016"
   }
  }
 },
 "nbformat": 4,
 "nbformat_minor": 2
}
