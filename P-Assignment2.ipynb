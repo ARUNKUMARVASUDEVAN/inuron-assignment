{
 "cells": [
  {
   "cell_type": "markdown",
   "id": "f24d6033",
   "metadata": {},
   "source": [
    "1.\tWrite a Python program to convert kilometers to miles?"
   ]
  },
  {
   "cell_type": "code",
   "execution_count": 1,
   "id": "776a32d7",
   "metadata": {},
   "outputs": [
    {
     "name": "stdout",
     "output_type": "stream",
     "text": [
      "Enter the distance in kilometers: 5\n",
      "5.0 kilometers is equal to 3.106855 miles.\n"
     ]
    }
   ],
   "source": [
    "# Take input from the user for kilometers\n",
    "kilometers = float(input(\"Enter the distance in kilometers: \"))\n",
    "\n",
    "# Convert kilometers to miles using the conversion factor\n",
    "conversion_factor = 0.621371\n",
    "miles = kilometers * conversion_factor\n",
    "\n",
    "# Print the distance in miles\n",
    "print(kilometers, \"kilometers is equal to\", miles, \"miles.\")\n"
   ]
  },
  {
   "cell_type": "markdown",
   "id": "b8534b61",
   "metadata": {},
   "source": [
    "2.\tWrite a Python program to convert Celsius to Fahrenheit?"
   ]
  },
  {
   "cell_type": "code",
   "execution_count": 2,
   "id": "d5a6b287",
   "metadata": {},
   "outputs": [
    {
     "name": "stdout",
     "output_type": "stream",
     "text": [
      "Enter the temperature in Celsius: 5\n",
      "5.0 degrees Celsius is equal to 41.0 degrees Fahrenheit.\n"
     ]
    }
   ],
   "source": [
    "# Take input from the user for Celsius temperature\n",
    "celsius = float(input(\"Enter the temperature in Celsius: \"))\n",
    "\n",
    "# Convert Celsius to Fahrenheit using the conversion formula\n",
    "fahrenheit = (celsius * 1.8) + 32\n",
    "\n",
    "# Print the temperature in Fahrenheit\n",
    "print(celsius, \"degrees Celsius is equal to\", fahrenheit, \"degrees Fahrenheit.\")\n"
   ]
  },
  {
   "cell_type": "markdown",
   "id": "b99f4bb7",
   "metadata": {},
   "source": [
    "3.\tWrite a Python program to display calendar?"
   ]
  },
  {
   "cell_type": "code",
   "execution_count": 3,
   "id": "1a789719",
   "metadata": {},
   "outputs": [
    {
     "name": "stdout",
     "output_type": "stream",
     "text": [
      "Enter the year: 24\n",
      "Enter the month: 4\n",
      "      April 24\n",
      "Mo Tu We Th Fr Sa Su\n",
      " 1  2  3  4  5  6  7\n",
      " 8  9 10 11 12 13 14\n",
      "15 16 17 18 19 20 21\n",
      "22 23 24 25 26 27 28\n",
      "29 30\n",
      "\n"
     ]
    }
   ],
   "source": [
    "import calendar\n",
    "\n",
    "# Get the current month and year\n",
    "current_year = int(input(\"Enter the year: \"))\n",
    "current_month = int(input(\"Enter the month: \"))\n",
    "\n",
    "# Display the calendar for the current month and year\n",
    "print(calendar.month(current_year, current_month))\n"
   ]
  },
  {
   "cell_type": "markdown",
   "id": "855e5090",
   "metadata": {},
   "source": [
    "4.\tWrite a Python program to solve quadratic equation?"
   ]
  },
  {
   "cell_type": "code",
   "execution_count": 4,
   "id": "47324ee8",
   "metadata": {},
   "outputs": [
    {
     "name": "stdout",
     "output_type": "stream",
     "text": [
      "Enter the value of coefficient a: 4\n",
      "Enter the value of coefficient b: 5\n",
      "Enter the value of coefficient c: 6\n",
      "There are no real solutions to the quadratic equation.\n"
     ]
    }
   ],
   "source": [
    "# Take input from the user for the coefficients of the quadratic equation\n",
    "a = float(input(\"Enter the value of coefficient a: \"))\n",
    "b = float(input(\"Enter the value of coefficient b: \"))\n",
    "c = float(input(\"Enter the value of coefficient c: \"))\n",
    "\n",
    "# Calculate the discriminant\n",
    "discriminant = b**2 - 4*a*c\n",
    "\n",
    "# Calculate the solutions of the quadratic equation\n",
    "if discriminant > 0:\n",
    "    root1 = (-b + (discriminant)**0.5) / (2*a)\n",
    "    root2 = (-b - (discriminant)**0.5) / (2*a)\n",
    "    print(\"The solutions are:\", root1, \"and\", root2)\n",
    "elif discriminant == 0:\n",
    "    root = -b / (2*a)\n",
    "    print(\"The solution is:\", root)\n",
    "else:\n",
    "    print(\"There are no real solutions to the quadratic equation.\")\n"
   ]
  },
  {
   "cell_type": "markdown",
   "id": "01a39656",
   "metadata": {},
   "source": [
    "5.\tWrite a Python program to swap two variables without temp variable?"
   ]
  },
  {
   "cell_type": "code",
   "execution_count": 5,
   "id": "1879672a",
   "metadata": {},
   "outputs": [
    {
     "name": "stdout",
     "output_type": "stream",
     "text": [
      "Enter the value of variable a: 3\n",
      "Enter the value of variable b: 4\n",
      "The new value of variable a is: 4\n",
      "The new value of variable b is: 3\n"
     ]
    }
   ],
   "source": [
    "# Take input from the user for the two variables\n",
    "a = input(\"Enter the value of variable a: \")\n",
    "b = input(\"Enter the value of variable b: \")\n",
    "\n",
    "# Swap the values of a and b using multiple assignment statements\n",
    "a, b = b, a\n",
    "\n",
    "# Print the new values of a and b\n",
    "print(\"The new value of variable a is:\", a)\n",
    "print(\"The new value of variable b is:\", b)\n"
   ]
  }
 ],
 "metadata": {
  "kernelspec": {
   "display_name": "Python 3 (ipykernel)",
   "language": "python",
   "name": "python3"
  },
  "language_info": {
   "codemirror_mode": {
    "name": "ipython",
    "version": 3
   },
   "file_extension": ".py",
   "mimetype": "text/x-python",
   "name": "python",
   "nbconvert_exporter": "python",
   "pygments_lexer": "ipython3",
   "version": "3.9.13"
  }
 },
 "nbformat": 4,
 "nbformat_minor": 5
}
