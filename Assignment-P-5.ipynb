{
 "cells": [
  {
   "cell_type": "markdown",
   "id": "ad45b538",
   "metadata": {},
   "source": [
    "1. Write a Python Program to Find LCM?"
   ]
  },
  {
   "cell_type": "code",
   "execution_count": 2,
   "id": "93350b13",
   "metadata": {},
   "outputs": [
    {
     "name": "stdout",
     "output_type": "stream",
     "text": [
      "Enter first number: 2\n",
      "Enter second number: 3\n",
      "The LCM of 2 and 3 is 6\n"
     ]
    }
   ],
   "source": [
    "# Define a function to find the LCM of two numbers\n",
    "def find_lcm(x, y):\n",
    "    # Determine the maximum number between the two inputs\n",
    "    if x > y:\n",
    "        greater = x\n",
    "    else:\n",
    "        greater = y\n",
    "\n",
    "    # Loop through multiples of the maximum number until a common multiple is found\n",
    "    while True:\n",
    "        if (greater % x == 0) and (greater % y == 0):\n",
    "            lcm = greater\n",
    "            break\n",
    "        greater += 1\n",
    "\n",
    "    return lcm\n",
    "\n",
    "# Prompt the user for input\n",
    "num1 = int(input(\"Enter first number: \"))\n",
    "num2 = int(input(\"Enter second number: \"))\n",
    "\n",
    "# Call the function and print the LCM\n",
    "print(\"The LCM of\", num1, \"and\", num2, \"is\", find_lcm(num1, num2))\n"
   ]
  },
  {
   "cell_type": "markdown",
   "id": "db8a9c1f",
   "metadata": {},
   "source": [
    "2. Write a Python Program to Find HCF?"
   ]
  },
  {
   "cell_type": "code",
   "execution_count": 3,
   "id": "ddbf5844",
   "metadata": {},
   "outputs": [
    {
     "name": "stdout",
     "output_type": "stream",
     "text": [
      "Enter first number: 4\n",
      "Enter second number: 5\n",
      "The HCF of 4 and 5 is 1\n"
     ]
    }
   ],
   "source": [
    "# Define a function to find the HCF of two numbers\n",
    "def find_hcf(x, y):\n",
    "    # Determine the smaller number between the two inputs\n",
    "    if x < y:\n",
    "        smaller = x\n",
    "    else:\n",
    "        smaller = y\n",
    "\n",
    "    # Loop backwards through the possible factors of the smaller number\n",
    "    for i in range(smaller, 0, -1):\n",
    "        if (x % i == 0) and (y % i == 0):\n",
    "            hcf = i\n",
    "            break\n",
    "\n",
    "    return hcf\n",
    "\n",
    "# Prompt the user for input\n",
    "num1 = int(input(\"Enter first number: \"))\n",
    "num2 = int(input(\"Enter second number: \"))\n",
    "\n",
    "# Call the function and print the HCF\n",
    "print(\"The HCF of\", num1, \"and\", num2, \"is\", find_hcf(num1, num2))\n"
   ]
  },
  {
   "cell_type": "markdown",
   "id": "7f093d82",
   "metadata": {},
   "source": [
    "3. Write a Python Program to Convert Decimal to Binary, Octal and Hexadecimal?"
   ]
  },
  {
   "cell_type": "code",
   "execution_count": 4,
   "id": "b75f8ee9",
   "metadata": {},
   "outputs": [
    {
     "name": "stdout",
     "output_type": "stream",
     "text": [
      "Enter a decimal number: 3\n",
      "Binary:  0b11\n",
      "Octal:  0o3\n",
      "Hexadecimal:  0x3\n"
     ]
    }
   ],
   "source": [
    "# Prompt the user to enter a decimal number\n",
    "dec_num = int(input(\"Enter a decimal number: \"))\n",
    "\n",
    "# Convert the decimal number to binary, octal, and hexadecimal\n",
    "bin_num = bin(dec_num)\n",
    "oct_num = oct(dec_num)\n",
    "hex_num = hex(dec_num)\n",
    "\n",
    "# Print the results to the console\n",
    "print(\"Binary: \", bin_num)\n",
    "print(\"Octal: \", oct_num)\n",
    "print(\"Hexadecimal: \", hex_num)\n"
   ]
  },
  {
   "cell_type": "markdown",
   "id": "c987aa9f",
   "metadata": {},
   "source": [
    "4. Write a Python Program To Find ASCII value of a character?"
   ]
  },
  {
   "cell_type": "code",
   "execution_count": 9,
   "id": "1ea3dd6d",
   "metadata": {},
   "outputs": [
    {
     "name": "stdout",
     "output_type": "stream",
     "text": [
      "Enter a character: l\n",
      "ASCII value of l is 108\n"
     ]
    }
   ],
   "source": [
    "# Prompt the user to enter a character\n",
    "char = input(\"Enter a character: \")\n",
    "\n",
    "# Convert the character to its ASCII value using the ord() function\n",
    "ascii_value = ord(char)\n",
    "\n",
    "# Print the ASCII value to the console\n",
    "print(\"ASCII value of\", char, \"is\", ascii_value)\n"
   ]
  },
  {
   "cell_type": "markdown",
   "id": "68df4bcb",
   "metadata": {},
   "source": [
    "5. Write a Python Program to Make a Simple Calculator with 4 basic mathematical operations?"
   ]
  },
  {
   "cell_type": "code",
   "execution_count": 10,
   "id": "bc3584f4",
   "metadata": {},
   "outputs": [
    {
     "name": "stdout",
     "output_type": "stream",
     "text": [
      "Enter the first number: 5\n",
      "Enter the second number: 6\n",
      "Enter the operation to perform (+, -, *, /): *\n",
      "5.0 * 6.0 = 30.0\n"
     ]
    }
   ],
   "source": [
    "# Function to add two numbers\n",
    "def add(num1, num2):\n",
    "    return num1 + num2\n",
    "\n",
    "# Function to subtract two numbers\n",
    "def subtract(num1, num2):\n",
    "    return num1 - num2\n",
    "\n",
    "# Function to multiply two numbers\n",
    "def multiply(num1, num2):\n",
    "    return num1 * num2\n",
    "\n",
    "# Function to divide two numbers\n",
    "def divide(num1, num2):\n",
    "    return num1 / num2\n",
    "\n",
    "# Main function\n",
    "def main():\n",
    "    # Prompt the user to enter two numbers and the operation to perform\n",
    "    num1 = float(input(\"Enter the first number: \"))\n",
    "    num2 = float(input(\"Enter the second number: \"))\n",
    "    operation = input(\"Enter the operation to perform (+, -, *, /): \")\n",
    "\n",
    "    # Perform the operation based on user input\n",
    "    if operation == \"+\":\n",
    "        print(num1, \"+\", num2, \"=\", add(num1, num2))\n",
    "    elif operation == \"-\":\n",
    "        print(num1, \"-\", num2, \"=\", subtract(num1, num2))\n",
    "    elif operation == \"*\":\n",
    "        print(num1, \"*\", num2, \"=\", multiply(num1, num2))\n",
    "    elif operation == \"/\":\n",
    "        print(num1, \"/\", num2, \"=\", divide(num1, num2))\n",
    "    else:\n",
    "        print(\"Invalid operation\")\n",
    "\n",
    "# Call the main function\n",
    "main()\n"
   ]
  },
  {
   "cell_type": "code",
   "execution_count": null,
   "id": "a4994314",
   "metadata": {},
   "outputs": [],
   "source": []
  }
 ],
 "metadata": {
  "kernelspec": {
   "display_name": "Python 3 (ipykernel)",
   "language": "python",
   "name": "python3"
  },
  "language_info": {
   "codemirror_mode": {
    "name": "ipython",
    "version": 3
   },
   "file_extension": ".py",
   "mimetype": "text/x-python",
   "name": "python",
   "nbconvert_exporter": "python",
   "pygments_lexer": "ipython3",
   "version": "3.9.13"
  }
 },
 "nbformat": 4,
 "nbformat_minor": 5
}
