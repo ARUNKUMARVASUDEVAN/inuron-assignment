{
 "cells": [
  {
   "cell_type": "markdown",
   "id": "92697b61",
   "metadata": {},
   "source": [
    "1. Write a Python Program to Display Fibonacci Sequence Using Recursion?"
   ]
  },
  {
   "cell_type": "code",
   "execution_count": 1,
   "id": "4ec4594c",
   "metadata": {},
   "outputs": [
    {
     "name": "stdout",
     "output_type": "stream",
     "text": [
      "Enter number of terms: 34\n",
      "Fibonacci sequence:\n",
      "0\n",
      "1\n",
      "1\n",
      "2\n",
      "3\n",
      "5\n",
      "8\n",
      "13\n",
      "21\n",
      "34\n",
      "55\n",
      "89\n",
      "144\n",
      "233\n",
      "377\n",
      "610\n",
      "987\n",
      "1597\n",
      "2584\n",
      "4181\n",
      "6765\n",
      "10946\n",
      "17711\n",
      "28657\n",
      "46368\n",
      "75025\n",
      "121393\n",
      "196418\n",
      "317811\n",
      "514229\n",
      "832040\n",
      "1346269\n",
      "2178309\n",
      "3524578\n"
     ]
    }
   ],
   "source": [
    "def fibonacci(n):\n",
    "    if n <= 1:\n",
    "        return n\n",
    "    else:\n",
    "        return (fibonacci(n-1) + fibonacci(n-2))\n",
    "\n",
    "terms = int(input(\"Enter number of terms: \"))\n",
    "\n",
    "if terms <= 0:\n",
    "    print(\"Please enter a positive integer\")\n",
    "else:\n",
    "    print(\"Fibonacci sequence:\")\n",
    "    for i in range(terms):\n",
    "        print(fibonacci(i))\n"
   ]
  },
  {
   "cell_type": "markdown",
   "id": "b03b8e4b",
   "metadata": {},
   "source": [
    "2. Write a Python Program to Find Factorial of Number Using Recursion?"
   ]
  },
  {
   "cell_type": "code",
   "execution_count": 2,
   "id": "70384a3f",
   "metadata": {},
   "outputs": [
    {
     "name": "stdout",
     "output_type": "stream",
     "text": [
      "Enter a number: 4\n",
      "Factorial of 4 is 24\n"
     ]
    }
   ],
   "source": [
    "def factorial(n):\n",
    "    if n == 0:\n",
    "        return 1\n",
    "    else:\n",
    "        return n * factorial(n-1)\n",
    "\n",
    "num = int(input(\"Enter a number: \"))\n",
    "\n",
    "if num < 0:\n",
    "    print(\"Factorial is not defined for negative numbers\")\n",
    "elif num == 0:\n",
    "    print(\"Factorial of 0 is 1\")\n",
    "else:\n",
    "    print(\"Factorial of\", num, \"is\", factorial(num))\n"
   ]
  },
  {
   "cell_type": "markdown",
   "id": "fea5c492",
   "metadata": {},
   "source": [
    "3. Write a Python Program to calculate your Body Mass Index?"
   ]
  },
  {
   "cell_type": "code",
   "execution_count": 3,
   "id": "9fcad063",
   "metadata": {},
   "outputs": [
    {
     "name": "stdout",
     "output_type": "stream",
     "text": [
      "Enter your height in meters: 34\n",
      "Enter your weight in kilograms: 85\n",
      "Your Body Mass Index (BMI) is: 0.07\n",
      "You are underweight.\n"
     ]
    }
   ],
   "source": [
    "height = float(input(\"Enter your height in meters: \"))\n",
    "weight = float(input(\"Enter your weight in kilograms: \"))\n",
    "\n",
    "bmi = weight / (height ** 2)\n",
    "\n",
    "print(\"Your Body Mass Index (BMI) is: {:.2f}\".format(bmi))\n",
    "\n",
    "if bmi < 18.5:\n",
    "    print(\"You are underweight.\")\n",
    "elif 18.5 <= bmi < 25:\n",
    "    print(\"Your weight is normal.\")\n",
    "elif 25 <= bmi < 30:\n",
    "    print(\"You are overweight.\")\n",
    "else:\n",
    "    print(\"You are obese.\")\n"
   ]
  },
  {
   "cell_type": "markdown",
   "id": "e9a3615f",
   "metadata": {},
   "source": [
    "4. Write a Python Program to calculate the natural logarithm of any number?"
   ]
  },
  {
   "cell_type": "code",
   "execution_count": 4,
   "id": "9e7b9726",
   "metadata": {},
   "outputs": [
    {
     "name": "stdout",
     "output_type": "stream",
     "text": [
      "Enter a number: 34\n",
      "The natural logarithm of 34.0 is 3.53\n"
     ]
    }
   ],
   "source": [
    "import math\n",
    "\n",
    "num = float(input(\"Enter a number: \"))\n",
    "\n",
    "if num <= 0:\n",
    "    print(\"Invalid input! The number must be positive.\")\n",
    "else:\n",
    "    result = math.log(num)\n",
    "    print(\"The natural logarithm of {} is {:.2f}\".format(num, result))\n"
   ]
  },
  {
   "cell_type": "markdown",
   "id": "7285d65a",
   "metadata": {},
   "source": [
    "5. Write a Python Program for cube sum of first n natural numbers?"
   ]
  },
  {
   "cell_type": "code",
   "execution_count": 5,
   "id": "ccff3f7e",
   "metadata": {},
   "outputs": [
    {
     "name": "stdout",
     "output_type": "stream",
     "text": [
      "225\n",
      "3025\n",
      "0\n"
     ]
    }
   ],
   "source": [
    "def cube_sum(n):\n",
    "    \"\"\"\n",
    "    This function takes a positive integer n as input and returns the cube sum of the first n natural numbers.\n",
    "    \"\"\"\n",
    "    if n <= 0:\n",
    "        return 0\n",
    "    else:\n",
    "        return ((n * (n + 1)) // 2) ** 2\n",
    "\n",
    "# Example usage\n",
    "print(cube_sum(5)) # Output: 225\n",
    "print(cube_sum(10)) # Output: 3025\n",
    "print(cube_sum(0)) # Output: 0\n"
   ]
  },
  {
   "cell_type": "code",
   "execution_count": null,
   "id": "b22865af",
   "metadata": {},
   "outputs": [],
   "source": []
  }
 ],
 "metadata": {
  "kernelspec": {
   "display_name": "Python 3 (ipykernel)",
   "language": "python",
   "name": "python3"
  },
  "language_info": {
   "codemirror_mode": {
    "name": "ipython",
    "version": 3
   },
   "file_extension": ".py",
   "mimetype": "text/x-python",
   "name": "python",
   "nbconvert_exporter": "python",
   "pygments_lexer": "ipython3",
   "version": "3.9.13"
  }
 },
 "nbformat": 4,
 "nbformat_minor": 5
}
