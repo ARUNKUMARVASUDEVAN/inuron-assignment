{
 "cells": [
  {
   "attachments": {},
   "cell_type": "markdown",
   "metadata": {},
   "source": [
    "Q1. What is the meaning of multiple inheritance?"
   ]
  },
  {
   "attachments": {},
   "cell_type": "markdown",
   "metadata": {},
   "source": [
    "Multiple inheritance is a feature in object-oriented programming where a class can inherit from more than one parent class. This means that a child class can inherit properties and methods from multiple parent classes, which can be useful in situations where the child class needs to exhibit behavior from multiple sources.\n",
    "\n",
    "For example, a class representing a \"flying car\" may need to inherit properties and methods from both a \"car\" class and a \"plane\" class. With multiple inheritance, the \"flying car\" class can inherit from both parent classes and exhibit behavior from both, allowing it to drive on roads and fly in the air.\n",
    "\n",
    "However, multiple inheritance can lead to complexity and ambiguity, especially when two or more parent classes have the same method or property names. In such cases, the child class must explicitly specify which parent class to use, or override the method or property to provide its own implementation."
   ]
  },
  {
   "attachments": {},
   "cell_type": "markdown",
   "metadata": {},
   "source": [
    "Q2. What is the concept of delegation?"
   ]
  },
  {
   "attachments": {},
   "cell_type": "markdown",
   "metadata": {},
   "source": [
    "In programming, delegation is a design pattern where an object passes on a responsibility to another object to perform a certain task or provide a specific service. The delegating object can then rely on the delegated object to handle that responsibility, rather than implementing the behavior itself.\n",
    "\n",
    "Delegation is often used in situations where a class or object needs to perform an action that is not part of its core responsibility. Instead of implementing the action directly, the class or object delegates the responsibility to another object that is specifically designed to handle that behavior. This allows for greater flexibility and modularity in the code, as well as better separation of concerns.\n",
    "\n",
    "For example, in the context of GUI programming, a button object might delegate the task of handling button clicks to a separate event handler object. The button itself does not need to know how to handle the click event; it simply delegates the responsibility to the event handler object, which is designed specifically to handle such events.\n",
    "\n",
    "Delegation can also be used in the context of inheritance, where a child class delegates certain responsibilities to its parent class. This allows for code reuse and can simplify the implementation of complex behaviors."
   ]
  },
  {
   "attachments": {},
   "cell_type": "markdown",
   "metadata": {},
   "source": [
    "Q3. What is the concept of composition?"
   ]
  },
  {
   "attachments": {},
   "cell_type": "markdown",
   "metadata": {},
   "source": [
    "In programming, composition is a design technique where a complex object is built by combining simpler objects or components. This allows for greater flexibility and modularity in the code, as well as better separation of concerns.\n",
    "\n",
    "Composition is often used in situations where an object needs to perform a task that requires the use of multiple components or resources. Instead of implementing the behavior directly, the object is composed of smaller, more specialized objects that handle specific aspects of the behavior.\n",
    "\n",
    "For example, in the context of a game engine, a game object might be composed of several components, such as a physics component, a rendering component, and an input component. Each component handles a specific aspect of the game object's behavior, and the game object as a whole is composed of these components.\n",
    "\n",
    "Composition allows for greater flexibility in the implementation of complex behaviors, as components can be added, removed, or modified without affecting the rest of the system. It also allows for better code reuse, as components can be shared across different objects and systems.\n",
    "\n",
    "Composition is often contrasted with inheritance, where a class inherits behavior from a parent class. While inheritance can also lead to code reuse, it can be more rigid and less flexible than composition, as changes to the parent class can affect all child classes."
   ]
  },
  {
   "attachments": {},
   "cell_type": "markdown",
   "metadata": {},
   "source": [
    "Q4. What are bound methods and how do we use them?"
   ]
  },
  {
   "attachments": {},
   "cell_type": "markdown",
   "metadata": {},
   "source": [
    "In Python, a bound method is a function that is bound to an instance of a class. When a method is called on an instance of a class, the instance is automatically passed as the first argument to the method, which is typically named \"self\".\n",
    "\n",
    "Bound methods are created when a method is defined within a class, and then an instance of that class is created. The method can then be called on the instance, and the instance is automatically passed as the first argument.\n",
    "\n",
    "Here is an example:\n",
    "\n",
    "```\n",
    "class MyClass:\n",
    "    def my_method(self, arg1, arg2):\n",
    "        # do something with arg1 and arg2\n",
    "        return result\n",
    "\n",
    "obj = MyClass()  # create an instance of the class\n",
    "result = obj.my_method(arg1_value, arg2_value)  # call the method on the instance\n",
    "```\n",
    "\n",
    "In this example, `my_method` is a bound method because it is defined within the `MyClass` class and is called on an instance of that class (`obj`). When the method is called, the instance (`obj`) is automatically passed as the first argument (`self`), and the remaining arguments (`arg1_value` and `arg2_value`) are passed as subsequent arguments.\n",
    "\n",
    "Bound methods can be used to perform operations on specific instances of a class, as each instance has its own set of instance variables that can be accessed and modified through its bound methods.\n",
    "\n",
    "Bound methods can also be used to define class-specific behavior, as each instance can have its own implementation of a method, even if the method is defined in the parent class. This allows for greater flexibility and modularity in the code."
   ]
  },
  {
   "attachments": {},
   "cell_type": "markdown",
   "metadata": {},
   "source": [
    "Q5. What is the purpose of pseudoprivate attributes?"
   ]
  },
  {
   "attachments": {},
   "cell_type": "markdown",
   "metadata": {},
   "source": [
    "In Python, pseudoprivate attributes are class attributes that have a double underscore prefix (e.g. `__attribute_name`). These attributes are not truly private, as they can still be accessed from outside the class using a slightly modified name (e.g. `_classname__attribute_name`). However, they are intended to be treated as private by convention.\n",
    "\n",
    "The purpose of pseudoprivate attributes is to prevent accidental or intentional modification of class attributes from outside the class, and to provide a way to define class-specific behavior or properties without interfering with other parts of the code.\n",
    "\n",
    "For example, consider a class representing a bank account:\n",
    "\n",
    "```\n",
    "class BankAccount:\n",
    "    def __init__(self, account_number, balance):\n",
    "        self.__account_number = account_number\n",
    "        self.__balance = balance\n",
    "    \n",
    "    def deposit(self, amount):\n",
    "        self.__balance += amount\n",
    "    \n",
    "    def withdraw(self, amount):\n",
    "        self.__balance -= amount\n",
    "    \n",
    "    def get_balance(self):\n",
    "        return self.__balance\n",
    "```\n",
    "\n",
    "In this example, the `__account_number` and `__balance` attributes are pseudoprivate, as they have a double underscore prefix. This means that they are not truly private, but are intended to be treated as private by convention. The `deposit`, `withdraw`, and `get_balance` methods are used to interact with these attributes, and can enforce any necessary constraints or business logic.\n",
    "\n",
    "The use of pseudoprivate attributes allows the class to define its own behavior and properties without interfering with other parts of the code that may also use similar attribute names. However, it is important to note that pseudoprivate attributes should not be used as a security mechanism, as they can still be accessed from outside the class if necessary."
   ]
  }
 ],
 "metadata": {
  "language_info": {
   "name": "python"
  },
  "orig_nbformat": 4
 },
 "nbformat": 4,
 "nbformat_minor": 2
}
