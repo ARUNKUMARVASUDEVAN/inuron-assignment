{
 "cells": [
  {
   "cell_type": "markdown",
   "id": "3050258f",
   "metadata": {},
   "source": [
    "1. Write a Python program to find sum of elements in list?"
   ]
  },
  {
   "cell_type": "code",
   "execution_count": 1,
   "id": "0f115b8c",
   "metadata": {},
   "outputs": [
    {
     "name": "stdout",
     "output_type": "stream",
     "text": [
      "Sum of elements in the list: 15\n"
     ]
    }
   ],
   "source": [
    "my_list = [1, 2, 3, 4, 5]\n",
    "sum_of_list = sum(my_list)\n",
    "print(\"Sum of elements in the list:\", sum_of_list)\n"
   ]
  },
  {
   "cell_type": "markdown",
   "id": "a81008c6",
   "metadata": {},
   "source": [
    "2. Write a Python program to Multiply all numbers in the list?"
   ]
  },
  {
   "cell_type": "code",
   "execution_count": 2,
   "id": "0fdf41ae",
   "metadata": {},
   "outputs": [
    {
     "name": "stdout",
     "output_type": "stream",
     "text": [
      "120\n"
     ]
    }
   ],
   "source": [
    "def multiply_list(lst):\n",
    "    result = 1\n",
    "    for num in lst:\n",
    "        result *= num\n",
    "    return result\n",
    "\n",
    "# Example usage\n",
    "my_list = [2, 3, 4, 5]\n",
    "result = multiply_list(my_list)\n",
    "print(result)\n"
   ]
  },
  {
   "cell_type": "markdown",
   "id": "ce5018f2",
   "metadata": {},
   "source": [
    "3. Write a Python program to find smallest number in a list?"
   ]
  },
  {
   "cell_type": "code",
   "execution_count": 3,
   "id": "059aab10",
   "metadata": {},
   "outputs": [
    {
     "name": "stdout",
     "output_type": "stream",
     "text": [
      "The smallest number in the list is: 1\n"
     ]
    }
   ],
   "source": [
    "# Define a list of numbers\n",
    "numbers = [3, 5, 1, 8, 2]\n",
    "\n",
    "# Find the smallest number in the list using min() function\n",
    "smallest_number = min(numbers)\n",
    "\n",
    "# Print the smallest number\n",
    "print(\"The smallest number in the list is:\", smallest_number)\n"
   ]
  },
  {
   "cell_type": "markdown",
   "id": "55403978",
   "metadata": {},
   "source": [
    "4. Write a Python program to find largest number in a list?"
   ]
  },
  {
   "cell_type": "code",
   "execution_count": 4,
   "id": "5e6b851f",
   "metadata": {},
   "outputs": [
    {
     "name": "stdout",
     "output_type": "stream",
     "text": [
      "The largest number in the list is: 89\n"
     ]
    }
   ],
   "source": [
    "def find_largest_number(numbers):\n",
    "    largest = numbers[0]\n",
    "    for num in numbers:\n",
    "        if num > largest:\n",
    "            largest = num\n",
    "    return largest\n",
    "\n",
    "# Example usage\n",
    "numbers = [23, 45, 12, 67, 89, 34, 56]\n",
    "largest_number = find_largest_number(numbers)\n",
    "print(\"The largest number in the list is:\", largest_number)\n"
   ]
  },
  {
   "cell_type": "markdown",
   "id": "52169762",
   "metadata": {},
   "source": [
    "5. Write a Python program to find second largest number in a list?"
   ]
  },
  {
   "cell_type": "code",
   "execution_count": 6,
   "id": "d0f05afb",
   "metadata": {},
   "outputs": [
    {
     "name": "stdout",
     "output_type": "stream",
     "text": [
      "Second largest number: 15\n"
     ]
    }
   ],
   "source": [
    "def find_second_largest(numbers):\n",
    "    # Initialize the largest and second largest variables\n",
    "    largest = second_largest = float('-inf')\n",
    "    \n",
    "    # Iterate through the list\n",
    "    for num in numbers:\n",
    "        # If current number is larger than largest, update largest and second_largest\n",
    "        if num > largest:\n",
    "            second_largest = largest\n",
    "            largest = num\n",
    "        # If current number is between largest and second largest, update second_largest\n",
    "        elif num > second_largest:\n",
    "            second_largest = num\n",
    "            \n",
    "    return second_largest\n",
    "\n",
    "numbers = [10, 5, 20, 8, 15, 12]\n",
    "print(\"Second largest number:\", find_second_largest(numbers))  # Output: Second largest number: 15\n"
   ]
  },
  {
   "cell_type": "markdown",
   "id": "690775de",
   "metadata": {},
   "source": [
    "6. Write a Python program to find N largest elements from a list?"
   ]
  },
  {
   "cell_type": "code",
   "execution_count": 7,
   "id": "eaa19a56",
   "metadata": {},
   "outputs": [
    {
     "name": "stdout",
     "output_type": "stream",
     "text": [
      "Largest elements are: [99, 45, 20]\n"
     ]
    }
   ],
   "source": [
    "import heapq\n",
    "\n",
    "# Sample list\n",
    "my_list = [10, 20, 4, 45, 99]\n",
    "\n",
    "# Find 3 largest elements\n",
    "largest_elements = heapq.nlargest(3, my_list)\n",
    "\n",
    "# Print the result\n",
    "print(\"Largest elements are:\", largest_elements)\n"
   ]
  },
  {
   "cell_type": "markdown",
   "id": "2687bfe7",
   "metadata": {},
   "source": [
    "7. Write a Python program to print even numbers in a list?"
   ]
  },
  {
   "cell_type": "code",
   "execution_count": 8,
   "id": "acb14367",
   "metadata": {},
   "outputs": [
    {
     "name": "stdout",
     "output_type": "stream",
     "text": [
      "2\n",
      "4\n",
      "6\n",
      "10\n",
      "12\n"
     ]
    }
   ],
   "source": [
    "# Define the list\n",
    "my_list = [2, 3, 4, 6, 7, 9, 10, 11, 12]\n",
    "\n",
    "# Iterate over the elements in the list\n",
    "for num in my_list:\n",
    "    # Check if the number is even\n",
    "    if num % 2 == 0:\n",
    "        # Print the even number\n",
    "        print(num)\n"
   ]
  },
  {
   "cell_type": "markdown",
   "id": "4b10ad29",
   "metadata": {},
   "source": [
    "8. Write a Python program to print odd numbers in a List?"
   ]
  },
  {
   "cell_type": "code",
   "execution_count": 9,
   "id": "fa7ba8b8",
   "metadata": {},
   "outputs": [
    {
     "name": "stdout",
     "output_type": "stream",
     "text": [
      "5\n",
      "9\n",
      "13\n",
      "17\n"
     ]
    }
   ],
   "source": [
    "# Function to print odd numbers in a list\n",
    "def print_odd_numbers(lst):\n",
    "    # Loop through the list and print odd numbers\n",
    "    for num in lst:\n",
    "        if num % 2 != 0:\n",
    "            print(num)\n",
    "\n",
    "# Example usage\n",
    "my_list = [2, 5, 8, 9, 10, 13, 17]\n",
    "print_odd_numbers(my_list)\n"
   ]
  },
  {
   "cell_type": "markdown",
   "id": "928fb1f7",
   "metadata": {},
   "source": [
    "9. Write a Python program to Remove empty List from List?"
   ]
  },
  {
   "cell_type": "code",
   "execution_count": 10,
   "id": "b92415cd",
   "metadata": {},
   "outputs": [
    {
     "name": "stdout",
     "output_type": "stream",
     "text": [
      "[1, 2, 4, 5, 7]\n"
     ]
    }
   ],
   "source": [
    "list1 = [1, 2, [], 4, [], 5, [], 7]\n",
    "\n",
    "# Using a loop to remove empty lists\n",
    "for item in list1:\n",
    "    if item == []:\n",
    "        list1.remove(item)\n",
    "\n",
    "print(list1)\n"
   ]
  },
  {
   "cell_type": "markdown",
   "id": "ce80fa1a",
   "metadata": {},
   "source": [
    "10. Write a Python program to Cloning or Copying a list?"
   ]
  },
  {
   "cell_type": "code",
   "execution_count": 11,
   "id": "f188fb45",
   "metadata": {},
   "outputs": [],
   "source": [
    "original_list = [1, 2, 3, 4, 5]\n",
    "new_list = original_list[:]\n"
   ]
  },
  {
   "cell_type": "markdown",
   "id": "c7c1234e",
   "metadata": {},
   "source": [
    "11. Write a Python program to Count occurrences of an element in a list?"
   ]
  },
  {
   "cell_type": "code",
   "execution_count": 12,
   "id": "da72ae9a",
   "metadata": {},
   "outputs": [
    {
     "name": "stdout",
     "output_type": "stream",
     "text": [
      "3\n"
     ]
    }
   ],
   "source": [
    "my_list = [1, 2, 3, 4, 4, 5, 4]\n",
    "count = my_list.count(4)\n",
    "print(count)\n"
   ]
  }
 ],
 "metadata": {
  "kernelspec": {
   "display_name": "Python 3 (ipykernel)",
   "language": "python",
   "name": "python3"
  },
  "language_info": {
   "codemirror_mode": {
    "name": "ipython",
    "version": 3
   },
   "file_extension": ".py",
   "mimetype": "text/x-python",
   "name": "python",
   "nbconvert_exporter": "python",
   "pygments_lexer": "ipython3",
   "version": "3.9.13"
  }
 },
 "nbformat": 4,
 "nbformat_minor": 5
}
