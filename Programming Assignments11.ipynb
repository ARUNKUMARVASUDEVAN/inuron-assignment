{
 "cells": [
  {
   "cell_type": "markdown",
   "id": "7539c743",
   "metadata": {},
   "source": [
    "1. Write a Python program to find words which are greater than given length k?"
   ]
  },
  {
   "cell_type": "code",
   "execution_count": 1,
   "id": "f4824a17",
   "metadata": {},
   "outputs": [
    {
     "name": "stdout",
     "output_type": "stream",
     "text": [
      "['quick', 'brown', 'jumps']\n"
     ]
    }
   ],
   "source": [
    "def find_words_greater_than_k(string, k):\n",
    "    words = string.split()\n",
    "    result = []\n",
    "    for word in words:\n",
    "        if len(word) > k:\n",
    "            result.append(word)\n",
    "    return result\n",
    "\n",
    "# Example usage\n",
    "string = \"The quick brown fox jumps over the lazy dog\"\n",
    "k = 4\n",
    "print(find_words_greater_than_k(string, k)) # Output: ['quick', 'brown', 'jumps']\n"
   ]
  },
  {
   "cell_type": "markdown",
   "id": "753529cb",
   "metadata": {},
   "source": [
    "2. Write a Python program for removing i-th character from a string?"
   ]
  },
  {
   "cell_type": "code",
   "execution_count": 2,
   "id": "ac72e99f",
   "metadata": {},
   "outputs": [
    {
     "name": "stdout",
     "output_type": "stream",
     "text": [
      "Hello World!\n"
     ]
    }
   ],
   "source": [
    "def remove_char(str, i):\n",
    "    # Get the characters before and after the i-th position\n",
    "    left = str[:i]\n",
    "    right = str[i+1:]\n",
    "    # Concatenate the two substrings\n",
    "    return left + right\n",
    "\n",
    "# Example usage\n",
    "s = \"Hello, World!\"\n",
    "i = 5\n",
    "new_s = remove_char(s, i)\n",
    "print(new_s)  # Output: \"Hello World!\"\n"
   ]
  },
  {
   "cell_type": "markdown",
   "id": "a371ee48",
   "metadata": {},
   "source": [
    "3. Write a Python program to split and join a string?"
   ]
  },
  {
   "cell_type": "code",
   "execution_count": 3,
   "id": "da5b2ad0",
   "metadata": {},
   "outputs": [
    {
     "name": "stdout",
     "output_type": "stream",
     "text": [
      "After splitting: ['Hello', ' World!']\n",
      "After joining: Hello- World!\n"
     ]
    }
   ],
   "source": [
    "# Split and join a string\n",
    "string = \"Hello, World!\"\n",
    "separator = \",\"\n",
    "split_string = string.split(separator)\n",
    "print(\"After splitting:\", split_string)\n",
    "\n",
    "join_string = \"-\".join(split_string)\n",
    "print(\"After joining:\", join_string)\n"
   ]
  },
  {
   "cell_type": "markdown",
   "id": "84a5afba",
   "metadata": {},
   "source": [
    "4. Write a Python to check if a given string is binary string or not?"
   ]
  },
  {
   "cell_type": "code",
   "execution_count": 4,
   "id": "26bbbad6",
   "metadata": {},
   "outputs": [
    {
     "name": "stdout",
     "output_type": "stream",
     "text": [
      "True\n",
      "False\n"
     ]
    }
   ],
   "source": [
    "def is_binary_string(s):\n",
    "    for c in s:\n",
    "        if c != '0' and c != '1':\n",
    "            return False\n",
    "    return True\n",
    "\n",
    "# Example usage\n",
    "s1 = '101010101'\n",
    "s2 = '1234'\n",
    "print(is_binary_string(s1))  # Output: True\n",
    "print(is_binary_string(s2))  # Output: False\n"
   ]
  },
  {
   "cell_type": "markdown",
   "id": "24264c5f",
   "metadata": {},
   "source": [
    "5. Write a Python program to find uncommon words from two Strings?"
   ]
  },
  {
   "cell_type": "code",
   "execution_count": 5,
   "id": "84fa54e4",
   "metadata": {},
   "outputs": [],
   "source": [
    "def find_uncommon_words(str1, str2):\n",
    "    # Split strings into words\n",
    "    words1 = set(str1.split())\n",
    "    words2 = set(str2.split())\n",
    "    \n",
    "    # Find uncommon words\n",
    "    uncommon_words = sorted(list(words1.symmetric_difference(words2)))\n",
    "    \n",
    "    return uncommon_words\n"
   ]
  },
  {
   "cell_type": "markdown",
   "id": "a832ede0",
   "metadata": {},
   "source": [
    "6. Write a Python to find all duplicate characters in string?"
   ]
  },
  {
   "cell_type": "code",
   "execution_count": 6,
   "id": "3f05c3d2",
   "metadata": {},
   "outputs": [],
   "source": [
    "def find_duplicates(s):\n",
    "    # Create an empty dictionary to store character counts\n",
    "    char_counts = {}\n",
    "    \n",
    "    # Iterate over each character in the string\n",
    "    for char in s:\n",
    "        # If the character is already in the dictionary, increment its count\n",
    "        if char in char_counts:\n",
    "            char_counts[char] += 1\n",
    "        # Otherwise, add it to the dictionary with a count of 1\n",
    "        else:\n",
    "            char_counts[char] = 1\n",
    "    \n",
    "    # Create an empty list to store duplicate characters\n",
    "    duplicates = []\n",
    "    \n",
    "    # Iterate over the dictionary to find characters with count greater than 1\n",
    "    for char, count in char_counts.items():\n",
    "        if count > 1:\n",
    "            duplicates.append(char)\n",
    "    \n",
    "    # Return the list of duplicate characters\n",
    "    return duplicates\n"
   ]
  },
  {
   "cell_type": "markdown",
   "id": "3448d353",
   "metadata": {},
   "source": [
    "7. Write a Python Program to check if a string contains any special character?"
   ]
  },
  {
   "cell_type": "code",
   "execution_count": 7,
   "id": "769137e9",
   "metadata": {},
   "outputs": [
    {
     "name": "stdout",
     "output_type": "stream",
     "text": [
      "True\n",
      "False\n"
     ]
    }
   ],
   "source": [
    "import string\n",
    "\n",
    "def contains_special_character(s):\n",
    "    special_characters = set(string.punctuation)\n",
    "    for char in s:\n",
    "        if char in special_characters:\n",
    "            return True\n",
    "    return False\n",
    "\n",
    "# Example usage\n",
    "s1 = \"Hello, world!\"\n",
    "s2 = \"Hello world\"\n",
    "print(contains_special_character(s1)) # True\n",
    "print(contains_special_character(s2)) # False\n"
   ]
  }
 ],
 "metadata": {
  "kernelspec": {
   "display_name": "Python 3 (ipykernel)",
   "language": "python",
   "name": "python3"
  },
  "language_info": {
   "codemirror_mode": {
    "name": "ipython",
    "version": 3
   },
   "file_extension": ".py",
   "mimetype": "text/x-python",
   "name": "python",
   "nbconvert_exporter": "python",
   "pygments_lexer": "ipython3",
   "version": "3.9.13"
  }
 },
 "nbformat": 4,
 "nbformat_minor": 5
}
