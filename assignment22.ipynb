{
 "cells": [
  {
   "cell_type": "markdown",
   "id": "755f8280",
   "metadata": {},
   "source": [
    "1. What is the result of the code, and explain?\n",
    "\n",
    "\n",
    ">>> X = 'iNeuron'\n",
    ">>> def func():\n",
    "print(X)\n",
    "\n",
    "\n",
    ">>> func()\n"
   ]
  },
  {
   "cell_type": "markdown",
   "id": "23e0ec17",
   "metadata": {},
   "source": [
    "The code creates a variable `X` and assigns it the string value `'iNeuron'`. It then defines a function `func()` that prints the value of `X` when called. \n",
    "\n",
    "When the function is called with `func()`, it prints the value of `X`, which is `'iNeuron'`, to the console.\n",
    "\n",
    "So the output of the code is:\n",
    "\n",
    "```\n",
    "iNeuron\n",
    "```\n",
    "\n",
    "In summary, the code defines a variable and a function that prints the value of that variable, and then calls the function, resulting in the value of the variable being printed to the console."
   ]
  },
  {
   "cell_type": "markdown",
   "id": "aea2f187",
   "metadata": {},
   "source": [
    "2. What is the result of the code, and explain?\n",
    "\n",
    "\n",
    ">>> X = 'iNeuron'\n",
    ">>> def func():\n",
    "X = 'NI!'\n",
    "\n",
    "\n",
    ">>> func()\n",
    ">>> print(X)\n"
   ]
  },
  {
   "cell_type": "markdown",
   "id": "0a89b91c",
   "metadata": {},
   "source": [
    "The code creates a variable `X` and assigns it the string value `'iNeuron'`. It then defines a function `func()` that assigns the string value `'NI!'` to a new variable `X` within the scope of the function, shadowing the global variable `X`.\n",
    "\n",
    "When the function is called with `func()`, it sets the value of the local variable `X` to `'NI!'`, but it does not print anything to the console. Then, outside of the function, the value of the global variable `X` is printed to the console using the `print` function.\n",
    "\n",
    "Since the function `func()` does not return any value, and the global variable `X` is not modified inside the function, the value of `X` printed to the console is still `'iNeuron'`.\n",
    "\n",
    "So the output of the code is:\n",
    "\n",
    "```\n",
    "iNeuron\n",
    "```\n",
    "\n",
    "In summary, the code defines a variable and a function that creates a new variable with the same name, and then calls the function and prints the value of the original variable, which is not affected by the function."
   ]
  },
  {
   "cell_type": "markdown",
   "id": "af44ef34",
   "metadata": {},
   "source": [
    "\n",
    "3. What does this code print, and why?\n",
    "\n",
    "\n",
    ">>> X = 'iNeuron'\n",
    ">>> def func():\n",
    "X = 'NI'\n",
    "print(X)\n",
    "\n",
    "\n",
    ">>> func()\n",
    ">>> print(X)\n",
    "\n"
   ]
  },
  {
   "cell_type": "markdown",
   "id": "99ce67f0",
   "metadata": {},
   "source": [
    "The code creates a variable `X` and assigns it the string value `'iNeuron'`. It then defines a function `func()` that creates a new variable with the same name `X` and assigns it the string value `'NI'`. \n",
    "\n",
    "When the function is called with `func()`, it sets the value of the local variable `X` to `'NI'` and then prints it to the console using the `print` function. Since the scope of the `X` variable within the function is local, this `X` variable is different from the global `X` variable.\n",
    "\n",
    "Then, outside of the function, the value of the global variable `X` is printed to the console using the `print` function. Since the function `func()` does not modify the global variable `X`, the value printed to the console is still `'iNeuron'`.\n",
    "\n",
    "So the output of the code is:\n",
    "\n",
    "```\n",
    "NI\n",
    "iNeuron\n",
    "```\n",
    "\n",
    "In summary, the code defines a variable and a function that creates a new variable with the same name, sets its value to a new value, and then prints it to the console. The function is then called, and the value of the original variable is printed to the console again."
   ]
  },
  {
   "cell_type": "markdown",
   "id": "a9303aae",
   "metadata": {},
   "source": [
    "4. What output does this code produce? Why?\n",
    "\n",
    "\n",
    ">>> X = 'iNeuron'\n",
    ">>> def func():\n",
    "global X\n",
    "X = 'NI'\n",
    "\n",
    "\n",
    ">>> func()\n",
    ">>> print(X)\n"
   ]
  },
  {
   "cell_type": "markdown",
   "id": "16aa7d29",
   "metadata": {},
   "source": [
    "The code creates a variable `X` and assigns it the string value `'iNeuron'`. It then defines a function `func()` that declares `X` as a global variable and sets its value to `'NI'`.\n",
    "\n",
    "When the function is called with `func()`, it sets the value of the global variable `X` to `'NI'`.\n",
    "\n",
    "Then, outside of the function, the value of the global variable `X` is printed to the console using the `print` function. Since the function `func()` modifies the global variable `X`, the value printed to the console is `'NI'`.\n",
    "\n",
    "So the output of the code is:\n",
    "\n",
    "```\n",
    "NI\n",
    "```\n",
    "\n",
    "In summary, the code defines a variable and a function that modifies a global variable and then calls the function and prints the modified value of the global variable."
   ]
  },
  {
   "cell_type": "markdown",
   "id": "fbf4f85e",
   "metadata": {},
   "source": [
    "5. What about this code—what’s the output, and why?\n",
    "\n",
    "\n",
    ">>> X = 'iNeuron'\n",
    ">>> def func():\n",
    "X = 'NI'\n",
    "def nested():\n",
    "print(X)\n",
    "nested()\n",
    "\n",
    "\n",
    ">>> func()\n",
    ">>> X\n"
   ]
  },
  {
   "cell_type": "markdown",
   "id": "dc16ad9b",
   "metadata": {},
   "source": [
    "The code creates a variable `X` and assigns it the string value `'iNeuron'`. It then defines a function `func()` that creates a new variable with the same name `X` and assigns it the string value `'NI'`. Inside the `func()` function, a nested function `nested()` is defined, which prints the value of the local variable `X`.\n",
    "\n",
    "When the `func()` function is called with `func()`, it sets the value of the local variable `X` to `'NI'`, defines the `nested()` function, and then calls it, which prints the value of the local variable `X`, which is `'NI'`.\n",
    "\n",
    "Then, outside of the function, the value of the global variable `X` is printed to the console using the `print` function. Since the function `func()` defines a local variable `X` that does not affect the global variable `X`, the value printed to the console is still `'iNeuron'`.\n",
    "\n",
    "So the output of the code is:\n",
    "\n",
    "```\n",
    "NI\n",
    "'iNeuron'\n",
    "```\n",
    "\n",
    "In summary, the code defines a variable and a function that creates a new variable with the same name, sets its value to a new value, defines a nested function that prints the value of the local variable, calls the nested function, and then prints the value of the original variable, which is not affected by the nested function."
   ]
  },
  {
   "cell_type": "markdown",
   "id": "8237ac8b",
   "metadata": {},
   "source": [
    "6. How about this code: what is its output in Python 3, and explain?\n",
    "\n",
    "\n",
    ">>> def func():\n",
    "X = 'NI'\n",
    "def nested():\n",
    "nonlocal X\n",
    "X = 'Spam'\n",
    "nested()\n",
    "print(X)\n",
    "\n",
    "\n",
    ">>> func()\n",
    "\n",
    "\n"
   ]
  },
  {
   "cell_type": "markdown",
   "id": "30024c52",
   "metadata": {},
   "source": [
    "The code defines a function `func()` that creates a local variable `X` and assigns it the string value `'NI'`. Inside the `func()` function, a nested function `nested()` is defined, which declares the variable `X` as nonlocal and sets its value to `'Spam'`.\n",
    "\n",
    "When the `func()` function is called with `func()`, it defines the `nested()` function, which modifies the nonlocal variable `X` to `'Spam'`. Then it calls the `nested()` function, which modifies the value of the nonlocal variable `X`.\n",
    "\n",
    "After the `nested()` function completes execution, the value of `X` is printed to the console using the `print` function. Since the `nested()` function modifies the value of the nonlocal variable `X` to `'Spam'`, the output of the `print` function is `'Spam'`.\n",
    "\n",
    "So the output of the code is:\n",
    "\n",
    "```\n",
    "Spam\n",
    "```\n",
    "\n",
    "In summary, the code defines a function that creates a local variable and a nested function that modifies a nonlocal variable and then calls the nested function and prints the modified value of the nonlocal variable."
   ]
  },
  {
   "cell_type": "code",
   "execution_count": null,
   "id": "5639aef3",
   "metadata": {},
   "outputs": [],
   "source": []
  }
 ],
 "metadata": {
  "kernelspec": {
   "display_name": "Python 3 (ipykernel)",
   "language": "python",
   "name": "python3"
  },
  "language_info": {
   "codemirror_mode": {
    "name": "ipython",
    "version": 3
   },
   "file_extension": ".py",
   "mimetype": "text/x-python",
   "name": "python",
   "nbconvert_exporter": "python",
   "pygments_lexer": "ipython3",
   "version": "3.9.13"
  }
 },
 "nbformat": 4,
 "nbformat_minor": 5
}
