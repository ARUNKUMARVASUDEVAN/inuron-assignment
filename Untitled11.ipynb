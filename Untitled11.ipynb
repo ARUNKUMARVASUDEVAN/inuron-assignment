{
 "cells": [
  {
   "cell_type": "raw",
   "id": "7862226f",
   "metadata": {},
   "source": [
    "1.How many seconds are in an hour? Use the interactive interpreter as a calculator and multiply the number of seconds in a minute (60) by the number of minutes in an hour (also 60).\n",
    "sol. 60\n",
    "\n",
    "Ans:\n"
   ]
  },
  {
   "cell_type": "code",
   "execution_count": 1,
   "id": "436e6ba3",
   "metadata": {},
   "outputs": [
    {
     "data": {
      "text/plain": [
       "3600"
      ]
     },
     "execution_count": 1,
     "metadata": {},
     "output_type": "execute_result"
    }
   ],
   "source": [
    "60*60"
   ]
  },
  {
   "cell_type": "raw",
   "id": "d5aedca2",
   "metadata": {},
   "source": [
    "2. Assign the result from the previous task (seconds in an hour) to a variable called seconds_per_hour.\n",
    "\n",
    "Ans:"
   ]
  },
  {
   "cell_type": "code",
   "execution_count": 2,
   "id": "e3a77464",
   "metadata": {},
   "outputs": [],
   "source": [
    "seconds_per_hour=3600"
   ]
  },
  {
   "cell_type": "raw",
   "id": "f3211422",
   "metadata": {},
   "source": [
    "3. How many seconds do you think there are in a day? Make use of the variables seconds per hour and minutes per hour.\n",
    "\n",
    "Ans"
   ]
  },
  {
   "cell_type": "code",
   "execution_count": 7,
   "id": "e422f6bd",
   "metadata": {},
   "outputs": [
    {
     "name": "stdout",
     "output_type": "stream",
     "text": [
      "total seconds:  86400\n"
     ]
    }
   ],
   "source": [
    "seconds_per_hour=3600\n",
    "minutes_per_hour=60\n",
    "total_seconds=24*seconds_per_hour\n",
    "print('total seconds: ',total_seconds)"
   ]
  },
  {
   "cell_type": "raw",
   "id": "26346abb",
   "metadata": {},
   "source": [
    "4. Calculate seconds per day again, but this time save the result in a variable called seconds_per_day\n",
    "\n",
    "Ans:"
   ]
  },
  {
   "cell_type": "code",
   "execution_count": 8,
   "id": "e2889c19",
   "metadata": {},
   "outputs": [],
   "source": [
    "seconds_per_hour=3600\n",
    "minutes_per_hour=60\n",
    "seconds_per_day=24*seconds_per_hour"
   ]
  },
  {
   "cell_type": "raw",
   "id": "b7f68944",
   "metadata": {},
   "source": [
    "5. Divide seconds_per_day by seconds_per_hour. Use floating-point (/) division."
   ]
  },
  {
   "cell_type": "code",
   "execution_count": 11,
   "id": "9d3d638b",
   "metadata": {},
   "outputs": [],
   "source": [
    "div=seconds_per_day/seconds_per_hour"
   ]
  },
  {
   "cell_type": "raw",
   "id": "845294fa",
   "metadata": {},
   "source": [
    "6. Divide seconds_per_day by seconds_per_hour, using integer (//) division. Did this number agree with the floating-point value from the previous question, aside from the final .0?\n",
    "\n",
    "Ans:it put aside 0 "
   ]
  },
  {
   "cell_type": "code",
   "execution_count": 13,
   "id": "5d4d7cb5",
   "metadata": {},
   "outputs": [],
   "source": [
    "div=seconds_per_day//seconds_per_hour\n"
   ]
  },
  {
   "cell_type": "raw",
   "id": "78b06a5c",
   "metadata": {},
   "source": [
    "7. Write a generator, genPrimes, that returns the sequence of prime numbers on successive calls to its next() method: 2, 3, 5, 7, 11, ...\n",
    "\n",
    "Ans:"
   ]
  },
  {
   "cell_type": "code",
   "execution_count": 18,
   "id": "ccd47128",
   "metadata": {},
   "outputs": [],
   "source": [
    "def genPrimes():\n",
    "    primes=2\n",
    "    num=3\n",
    "    while True:\n",
    "        is_prime=True\n",
    "        for prime in Primes:\n",
    "            if num % prime==0:\n",
    "                is_prime=False\n",
    "                break\n",
    "        if is_prime:\n",
    "            primes.append(num)\n",
    "            yield num\n",
    "        num=+1\n",
    "    "
   ]
  }
 ],
 "metadata": {
  "kernelspec": {
   "display_name": "Python 3 (ipykernel)",
   "language": "python",
   "name": "python3"
  },
  "language_info": {
   "codemirror_mode": {
    "name": "ipython",
    "version": 3
   },
   "file_extension": ".py",
   "mimetype": "text/x-python",
   "name": "python",
   "nbconvert_exporter": "python",
   "pygments_lexer": "ipython3",
   "version": "3.11.0"
  }
 },
 "nbformat": 4,
 "nbformat_minor": 5
}
