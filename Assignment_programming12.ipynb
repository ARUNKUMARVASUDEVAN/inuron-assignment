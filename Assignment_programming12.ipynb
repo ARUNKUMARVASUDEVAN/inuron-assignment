{
 "cells": [
  {
   "cell_type": "markdown",
   "id": "46ce62c6",
   "metadata": {},
   "source": [
    "1. Write a Python program to Extract Unique values dictionary values?"
   ]
  },
  {
   "cell_type": "code",
   "execution_count": 1,
   "id": "ea0934b9",
   "metadata": {},
   "outputs": [
    {
     "name": "stdout",
     "output_type": "stream",
     "text": [
      "{1, 2, 3, 4}\n"
     ]
    }
   ],
   "source": [
    "# Example dictionary\n",
    "my_dict = {'a': 1, 'b': 2, 'c': 2, 'd': 3, 'e': 4, 'f': 4}\n",
    "\n",
    "# Extract unique values from dictionary\n",
    "unique_values = set(my_dict.values())\n",
    "\n",
    "# Print unique values\n",
    "print(unique_values)\n"
   ]
  },
  {
   "cell_type": "markdown",
   "id": "ccfdfd22",
   "metadata": {},
   "source": [
    "2. Write a Python program to find the sum of all items in a dictionary?"
   ]
  },
  {
   "cell_type": "code",
   "execution_count": 2,
   "id": "1164b00d",
   "metadata": {},
   "outputs": [
    {
     "name": "stdout",
     "output_type": "stream",
     "text": [
      "600\n"
     ]
    }
   ],
   "source": [
    "my_dict = {'a': 100, 'b': 200, 'c': 300}\n",
    "sum_values = sum(my_dict.values())\n",
    "print(sum_values)\n"
   ]
  },
  {
   "cell_type": "markdown",
   "id": "9e115dcf",
   "metadata": {},
   "source": [
    "3. Write a Python program to Merging two Dictionaries?"
   ]
  },
  {
   "cell_type": "code",
   "execution_count": 3,
   "id": "4e3c70be",
   "metadata": {},
   "outputs": [
    {
     "name": "stdout",
     "output_type": "stream",
     "text": [
      "{'a': 1, 'b': 2, 'c': 3, 'd': 4}\n"
     ]
    }
   ],
   "source": [
    "dict1 = {'a': 1, 'b': 2}\n",
    "dict2 = {'c': 3, 'd': 4}\n",
    "\n",
    "dict1.update(dict2)\n",
    "\n",
    "print(dict1) # Output: {'a': 1, 'b': 2, 'c': 3, 'd': 4}\n"
   ]
  },
  {
   "cell_type": "markdown",
   "id": "54b2fd3e",
   "metadata": {},
   "source": [
    "4. Write a Python program to convert key-values list to flat dictionary?"
   ]
  },
  {
   "cell_type": "code",
   "execution_count": 4,
   "id": "8fe30298",
   "metadata": {},
   "outputs": [
    {
     "name": "stdout",
     "output_type": "stream",
     "text": [
      "{'key1': 1, 'key2': 2, 'key3': 3}\n"
     ]
    }
   ],
   "source": [
    "key_value_list = [('key1', 1), ('key2', 2), ('key3', 3)]\n",
    "\n",
    "flat_dict = {key: value for key, value in key_value_list}\n",
    "\n",
    "print(flat_dict)\n"
   ]
  },
  {
   "cell_type": "markdown",
   "id": "5e644d5f",
   "metadata": {},
   "source": [
    "5. Write a Python program to insertion at the beginning in OrderedDict?"
   ]
  },
  {
   "cell_type": "code",
   "execution_count": 5,
   "id": "4fe5cd31",
   "metadata": {},
   "outputs": [
    {
     "name": "stdout",
     "output_type": "stream",
     "text": [
      "OrderedDict([('d', 4), ('a', 1), ('b', 2), ('c', 3)])\n"
     ]
    }
   ],
   "source": [
    "from collections import OrderedDict\n",
    "\n",
    "# Define an OrderedDict\n",
    "my_dict = OrderedDict([('a', 1), ('b', 2), ('c', 3)])\n",
    "\n",
    "# Insert an item at the beginning\n",
    "my_dict['d'] = 4\n",
    "my_dict.move_to_end('d', last=False)\n",
    "\n",
    "# Print the modified OrderedDict\n",
    "print(my_dict)\n"
   ]
  },
  {
   "cell_type": "markdown",
   "id": "dbd1d17e",
   "metadata": {},
   "source": [
    "6. Write a Python program to check order of character in string using OrderedDict()?"
   ]
  },
  {
   "cell_type": "code",
   "execution_count": 6,
   "id": "717d229c",
   "metadata": {},
   "outputs": [
    {
     "name": "stdout",
     "output_type": "stream",
     "text": [
      "The pattern is present in the string.\n"
     ]
    }
   ],
   "source": [
    "from collections import OrderedDict\n",
    "\n",
    "def check_order(s, pattern):\n",
    "    # Create an OrderedDict from the string s\n",
    "    d = OrderedDict.fromkeys(s)\n",
    "\n",
    "    # Traverse the pattern and check if each character\n",
    "    # is present in the OrderedDict and has the same\n",
    "    # relative position as in the pattern\n",
    "    j = 0\n",
    "    for key in d:\n",
    "        if key == pattern[j]:\n",
    "            j += 1\n",
    "        if j == len(pattern):\n",
    "            return True\n",
    "\n",
    "    # If the pattern is not found, return False\n",
    "    return False\n",
    "\n",
    "# Test the function\n",
    "s = \"hello world\"\n",
    "pattern = \"hlo\"\n",
    "if check_order(s, pattern):\n",
    "    print(\"The pattern is present in the string.\")\n",
    "else:\n",
    "    print(\"The pattern is not present in the string.\")\n"
   ]
  },
  {
   "cell_type": "markdown",
   "id": "d5bcf7c0",
   "metadata": {},
   "source": [
    " 7. Write a Python program to sort Python Dictionaries by Key or Value?"
   ]
  },
  {
   "cell_type": "code",
   "execution_count": 7,
   "id": "94c7c58b",
   "metadata": {},
   "outputs": [
    {
     "name": "stdout",
     "output_type": "stream",
     "text": [
      "{'apple': 4, 'banana': 2, 'kiwi': 3, 'orange': 1}\n",
      "{'orange': 1, 'banana': 2, 'kiwi': 3, 'apple': 4}\n"
     ]
    }
   ],
   "source": [
    "# Define a sample dictionary\n",
    "my_dict = {'apple': 4, 'banana': 2, 'orange': 1, 'kiwi': 3}\n",
    "\n",
    "# Sort the dictionary by key and print the result\n",
    "sorted_dict_key = dict(sorted(my_dict.items()))\n",
    "print(sorted_dict_key)\n",
    "\n",
    "# Sort the dictionary by value and print the result\n",
    "sorted_dict_value = dict(sorted(my_dict.items(), key=lambda x: x[1]))\n",
    "print(sorted_dict_value)\n"
   ]
  }
 ],
 "metadata": {
  "kernelspec": {
   "display_name": "Python 3 (ipykernel)",
   "language": "python",
   "name": "python3"
  },
  "language_info": {
   "codemirror_mode": {
    "name": "ipython",
    "version": 3
   },
   "file_extension": ".py",
   "mimetype": "text/x-python",
   "name": "python",
   "nbconvert_exporter": "python",
   "pygments_lexer": "ipython3",
   "version": "3.9.13"
  }
 },
 "nbformat": 4,
 "nbformat_minor": 5
}
