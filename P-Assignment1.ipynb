{
 "cells": [
  {
   "cell_type": "markdown",
   "id": "bed11e96",
   "metadata": {},
   "source": [
    "1.\tWrite a Python program to print \"Hello Python\"?"
   ]
  },
  {
   "cell_type": "code",
   "execution_count": 1,
   "id": "c66b4b5d",
   "metadata": {},
   "outputs": [
    {
     "name": "stdout",
     "output_type": "stream",
     "text": [
      "Hello Python\n"
     ]
    }
   ],
   "source": [
    "print(\"Hello Python\")\n"
   ]
  },
  {
   "cell_type": "markdown",
   "id": "d1baf512",
   "metadata": {},
   "source": [
    "2.\tWrite a Python program to do arithmetical operations addition and division.?"
   ]
  },
  {
   "cell_type": "markdown",
   "id": "0f33478f",
   "metadata": {},
   "source": [
    "# Addition\n",
    "a = 10\n",
    "b = 5\n",
    "result = a + b\n",
    "print(\"The sum of\", a, \"and\", b, \"is\", result)\n",
    "\n",
    "# Division\n",
    "c = 10\n",
    "d = 2\n",
    "result = c / d\n",
    "print(\"The division of\", c, \"by\", d, \"is\", result)\n"
   ]
  },
  {
   "cell_type": "markdown",
   "id": "ea02948f",
   "metadata": {},
   "source": [
    "3.\tWrite a Python program to find the area of a triangle?"
   ]
  },
  {
   "cell_type": "code",
   "execution_count": 3,
   "id": "0d036693",
   "metadata": {},
   "outputs": [
    {
     "name": "stdout",
     "output_type": "stream",
     "text": [
      "Enter the base of the triangle: 4\n",
      "Enter the height of the triangle: 5\n",
      "The area of the triangle is 10.0\n"
     ]
    }
   ],
   "source": [
    "# Take input from the user for base and height\n",
    "base = float(input(\"Enter the base of the triangle: \"))\n",
    "height = float(input(\"Enter the height of the triangle: \"))\n",
    "\n",
    "# Calculate the area of the triangle\n",
    "area = 0.5 * base * height\n",
    "\n",
    "# Print the area of the triangle\n",
    "print(\"The area of the triangle is\", area)\n"
   ]
  },
  {
   "cell_type": "markdown",
   "id": "c8d0a124",
   "metadata": {},
   "source": [
    "4.\tWrite a Python program to swap two variables?"
   ]
  },
  {
   "cell_type": "code",
   "execution_count": 4,
   "id": "7d620c9a",
   "metadata": {},
   "outputs": [
    {
     "name": "stdout",
     "output_type": "stream",
     "text": [
      "Enter the value of a: 4\n",
      "Enter the value of b: 5\n",
      "Before swapping: a = 4 , b = 5\n",
      "After swapping: a = 5 , b = 4\n"
     ]
    }
   ],
   "source": [
    "# Take input from the user for two variables\n",
    "a = input(\"Enter the value of a: \")\n",
    "b = input(\"Enter the value of b: \")\n",
    "\n",
    "# Print the values before swapping\n",
    "print(\"Before swapping: a =\", a, \", b =\", b)\n",
    "\n",
    "# Swap the values\n",
    "a, b = b, a\n",
    "\n",
    "# Print the values after swapping\n",
    "print(\"After swapping: a =\", a, \", b =\", b)\n"
   ]
  },
  {
   "cell_type": "markdown",
   "id": "d164c2c0",
   "metadata": {},
   "source": [
    "5.\tWrite a Python program to generate a random number?"
   ]
  },
  {
   "cell_type": "markdown",
   "id": "fee36eac",
   "metadata": {},
   "source": [
    "# import random\n",
    "\n",
    "# Generate a random integer between 0 and 10\n",
    "random_number = random.randint(0, 10)\n",
    "\n",
    "# Print the random number\n",
    "print(\"Random number:\", random_number)\n"
   ]
  }
 ],
 "metadata": {
  "kernelspec": {
   "display_name": "Python 3 (ipykernel)",
   "language": "python",
   "name": "python3"
  },
  "language_info": {
   "codemirror_mode": {
    "name": "ipython",
    "version": 3
   },
   "file_extension": ".py",
   "mimetype": "text/x-python",
   "name": "python",
   "nbconvert_exporter": "python",
   "pygments_lexer": "ipython3",
   "version": "3.9.13"
  }
 },
 "nbformat": 4,
 "nbformat_minor": 5
}
