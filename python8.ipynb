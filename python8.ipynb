{
 "cells": [
  {
   "attachments": {},
   "cell_type": "markdown",
   "metadata": {},
   "source": [
    "Q1. What are the two latest user-defined exception constraints in Python 3.X?"
   ]
  },
  {
   "cell_type": "code",
   "execution_count": 1,
   "metadata": {},
   "outputs": [
    {
     "name": "stdout",
     "output_type": "stream",
     "text": [
      "Cannot divide by zero\n",
      "File not found: [Errno 2] No such file or directory: 'nonexistent_file.txt'\n"
     ]
    }
   ],
   "source": [
    "#ValueError: This exception is raised when a function receives an argument of the correct type but an inappropriate value. It can be used to handle situations where a value is outside the acceptable range or doesn't meet specific criteria.\n",
    "\n",
    "\n",
    "def divide(x, y):\n",
    "    if y == 0:\n",
    "        raise ValueError(\"Cannot divide by zero\")\n",
    "    return x / y\n",
    "\n",
    "try:\n",
    "    result = divide(10, 0)\n",
    "except ValueError as e:\n",
    "    print(e)\n",
    "\n",
    "#FileNotFoundError: This exception is raised when a file or directory is requested but cannot be found. It is typically used when attempting to open a file that does not exist.\n",
    "try:\n",
    "    file = open(\"nonexistent_file.txt\", \"r\")\n",
    "except FileNotFoundError as e:\n",
    "    print(\"File not found:\", e)\n",
    "\n"
   ]
  },
  {
   "attachments": {},
   "cell_type": "markdown",
   "metadata": {},
   "source": [
    "Q2. How are class-based exceptions that have been raised matched to handlers?"
   ]
  },
  {
   "cell_type": "code",
   "execution_count": 2,
   "metadata": {},
   "outputs": [
    {
     "name": "stdout",
     "output_type": "stream",
     "text": [
      "Handling MyCustomException\n"
     ]
    }
   ],
   "source": [
    "class MyException(Exception):\n",
    "    pass\n",
    "\n",
    "class MyCustomException(MyException):\n",
    "    pass\n",
    "\n",
    "try:\n",
    "    raise MyCustomException(\"Custom exception occurred\")\n",
    "except MyCustomException:\n",
    "    print(\"Handling MyCustomException\")\n",
    "except MyException:\n",
    "    print(\"Handling MyException\")\n",
    "except Exception:\n",
    "    print(\"Handling Exception\")\n"
   ]
  },
  {
   "attachments": {},
   "cell_type": "markdown",
   "metadata": {},
   "source": [
    "Q3. Describe two methods for attaching context information to exception artefacts."
   ]
  },
  {
   "attachments": {},
   "cell_type": "markdown",
   "metadata": {},
   "source": [
    "class MyException(Exception):\n",
    "    pass\n",
    "\n",
    "try:\n",
    "    raise MyException(\"An error occurred\", 42)\n",
    "except MyException as e:\n",
    "    message, additional_data = e.args\n",
    "    print(\"Error message:\", message)\n",
    "    print(\"Additional data:\", additional_data)\n",
    "\n",
    "\n",
    "class FileProcessingError(Exception):\n",
    "    def __init__(self, message, filename):\n",
    "        super().__init__(message)\n",
    "        self.filename = filename\n",
    "\n",
    "    def __str__(self):\n",
    "        return f\"{super().__str__()}. File: {self.filename}\"\n",
    "\n",
    "try:\n",
    "    raise FileProcessingError(\"Error while processing file\", \"data.txt\")\n",
    "except FileProcessingError as e:\n",
    "    print(e)\n",
    "    print(\"Filename:\", e.filename)\n",
    "\n"
   ]
  },
  {
   "attachments": {},
   "cell_type": "markdown",
   "metadata": {},
   "source": [
    "Q4. Describe two methods for specifying the text of an exception object&#39;s error message."
   ]
  },
  {
   "attachments": {},
   "cell_type": "markdown",
   "metadata": {},
   "source": [
    "\n",
    "\n",
    "1. Using the Exception Class:\n",
    "   One way to specify the error message is by defining it directly in the exception class. You can create a custom exception class by inheriting from a built-in exception class or the base `Exception` class and override the `__init__()` method to accept the error message as a parameter. Inside the `__init__()` method, you can assign the error message to an attribute or call the parent class's `__init__()` method with the error message.\n",
    "\n",
    "   Example:\n",
    "   ```python\n",
    "   class CustomException(Exception):\n",
    "       def __init__(self, message):\n",
    "           self.message = message\n",
    "\n",
    "   try:\n",
    "       raise CustomException(\"This is a custom exception.\")\n",
    "   except CustomException as e:\n",
    "       print(e.message)\n",
    "   ```\n",
    "\n",
    "   In this example, the `CustomException` class is created with an `__init__()` method that accepts the error message as a parameter. The error message is then assigned to the `message` attribute of the exception object. When handling the exception, you can access the error message using the `message` attribute.\n",
    "\n",
    "2. Passing the Error Message as a String Argument:\n",
    "   Another method is to pass the error message as a string argument when raising the exception. Built-in exception classes like `Exception` or their subclasses allow you to pass the error message as an argument when raising the exception. The error message can be a string or a formatted string containing relevant information.\n",
    "\n",
    "   Example:\n",
    "   ```python\n",
    "   try:\n",
    "       raise ValueError(\"Invalid value: {}\".format(42))\n",
    "   except ValueError as e:\n",
    "       print(e)\n",
    "   ```\n",
    "\n",
    "   In this example, the `ValueError` exception is raised with the error message \"Invalid value: 42\". The error message is passed as a string argument to the `ValueError` class when raising the exception. When handling the exception, you can access the error message using the exception object itself.\n",
    "\n",
    "These methods allow you to specify the text of an exception object's error message, providing meaningful information about the exception that occurred. You can choose the method that suits your needs and coding style based on the requirements of your application."
   ]
  },
  {
   "attachments": {},
   "cell_type": "markdown",
   "metadata": {},
   "source": [
    "Q5. Why do you no longer use string-based exceptions?"
   ]
  },
  {
   "attachments": {},
   "cell_type": "markdown",
   "metadata": {},
   "source": [
    "\n",
    "\n",
    "1. Lack of specificity: String-based exceptions do not provide detailed information about the type or nature of the exception. When catching exceptions, it becomes challenging to differentiate between different types of errors and handle them appropriately based on their specific characteristics.\n",
    "\n",
    "2. Error-prone handling: Since string-based exceptions lack a specific exception class hierarchy, it becomes difficult to write precise and targeted exception handlers. Catching exceptions using strings can lead to unintentionally catching unrelated exceptions or missing specific error cases.\n",
    "\n",
    "3. Code readability and maintainability: The use of string-based exceptions can make code less readable and harder to understand for other developers. Exception classes provide a clear and organized way of categorizing and handling errors, making the code more maintainable and easier to debug.\n",
    "\n",
    "4. Inheritance and customization: Exception classes in Python are part of an inheritance hierarchy, allowing developers to define custom exception classes that inherit from built-in exceptions or other custom exceptions. This inheritance structure allows for more flexibility and customization when handling different types of errors.\n",
    "\n",
    "For these reasons, it is recommended to use class-based exceptions in Python rather than relying on string-based exceptions. Class-based exceptions provide a more structured and robust approach to handling errors, allowing for better organization, specificity, and extensibility in exception handling code."
   ]
  },
  {
   "attachments": {},
   "cell_type": "markdown",
   "metadata": {},
   "source": []
  }
 ],
 "metadata": {
  "kernelspec": {
   "display_name": "Python 3",
   "language": "python",
   "name": "python3"
  },
  "language_info": {
   "codemirror_mode": {
    "name": "ipython",
    "version": 3
   },
   "file_extension": ".py",
   "mimetype": "text/x-python",
   "name": "python",
   "nbconvert_exporter": "python",
   "pygments_lexer": "ipython3",
   "version": "3.11.0"
  },
  "orig_nbformat": 4
 },
 "nbformat": 4,
 "nbformat_minor": 2
}
