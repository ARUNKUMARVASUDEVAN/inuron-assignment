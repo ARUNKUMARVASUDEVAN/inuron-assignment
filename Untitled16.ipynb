{
 "cells": [
  {
   "cell_type": "markdown",
   "id": "09fe1e43",
   "metadata": {},
   "source": [
    "Question 1:\n",
    "Define a class with a generator which can iterate the numbers, which are divisible by\n",
    "7, between a given range 0 and n."
   ]
  },
  {
   "cell_type": "code",
   "execution_count": 1,
   "id": "fc07b804",
   "metadata": {},
   "outputs": [
    {
     "name": "stdout",
     "output_type": "stream",
     "text": [
      "0\n",
      "7\n",
      "14\n",
      "21\n",
      "28\n",
      "35\n",
      "42\n",
      "49\n"
     ]
    }
   ],
   "source": [
    "class DivisibleBySeven:\n",
    "    def __init__(self, n):\n",
    "        self.n = n\n",
    "    \n",
    "    def generate_numbers(self):\n",
    "        for i in range(self.n+1):\n",
    "            if i % 7 == 0:\n",
    "                yield i\n",
    "\n",
    "# example usage\n",
    "div_by_seven = DivisibleBySeven(50)\n",
    "for num in div_by_seven.generate_numbers():\n",
    "    print(num)\n"
   ]
  },
  {
   "cell_type": "markdown",
   "id": "b1c23cc5",
   "metadata": {},
   "source": [
    "Question 2:\n",
    "Write a program to compute the frequency of the words from the input. The output\n",
    "should output after sorting the key alphanumerically.\n",
    "Suppose the following input is supplied to the program:\n",
    "New to Python or choosing between Python 2 and Python 3? Read Python 2 or\n",
    "Python 3.\n",
    "Then, the output should be:\n",
    "2:2\n",
    "3.:1\n",
    "3?:1\n",
    "New:1\n",
    "Python:5\n",
    "Read:1\n",
    "and:1\n",
    "between:1\n",
    "choosing:1\n",
    "or:2\n",
    "to:1"
   ]
  },
  {
   "cell_type": "code",
   "execution_count": 2,
   "id": "f4827330",
   "metadata": {},
   "outputs": [
    {
     "name": "stdout",
     "output_type": "stream",
     "text": [
      "Enter a sentence: ajusd is sis\n",
      "ajusd:1\n",
      "is:1\n",
      "sis:1\n"
     ]
    }
   ],
   "source": [
    "sentence = input(\"Enter a sentence: \")\n",
    "\n",
    "# Split the sentence into a list of words\n",
    "words = sentence.split()\n",
    "\n",
    "# Create an empty dictionary to store the word frequency\n",
    "word_freq = {}\n",
    "\n",
    "# Iterate over each word in the list\n",
    "for word in words:\n",
    "    # If the word is already in the dictionary, increment its frequency by 1\n",
    "    if word in word_freq:\n",
    "        word_freq[word] += 1\n",
    "    # If the word is not in the dictionary, add it with a frequency of 1\n",
    "    else:\n",
    "        word_freq[word] = 1\n",
    "\n",
    "# Sort the dictionary by key (word) in alphabetical order\n",
    "sorted_word_freq = sorted(word_freq.items())\n",
    "\n",
    "# Print the word frequency\n",
    "for word, freq in sorted_word_freq:\n",
    "    print(word + \":\" + str(freq))\n"
   ]
  },
  {
   "cell_type": "markdown",
   "id": "67a3a423",
   "metadata": {},
   "source": [
    "Question 3:\n",
    "\n",
    "Define a class Person and its two child classes: Male and Female. All classes have a\n",
    "method &quot;getGender&quot; which can print &quot;Male&quot; for Male class and &quot;Female&quot; for Female\n",
    "class."
   ]
  },
  {
   "cell_type": "code",
   "execution_count": 3,
   "id": "e5e7c3c0",
   "metadata": {},
   "outputs": [],
   "source": [
    "class Person:\n",
    "    def getGender(self):\n",
    "        return \"Unknown\"\n",
    "\n",
    "class Male(Person):\n",
    "    def getGender(self):\n",
    "        return \"Male\"\n",
    "\n",
    "class Female(Person):\n",
    "    def getGender(self):\n",
    "        return \"Female\"\n"
   ]
  },
  {
   "cell_type": "markdown",
   "id": "65ef8750",
   "metadata": {},
   "source": [
    "Question 4:\n",
    "Please write a program to generate all sentences where subject is in [&quot;I&quot;, &quot;You&quot;] and\n",
    "verb is in [&quot;Play&quot;, &quot;Love&quot;] and the object is in [&quot;Hockey&quot;,&quot;Football&quot;]."
   ]
  },
  {
   "cell_type": "code",
   "execution_count": 4,
   "id": "7abf2f0a",
   "metadata": {},
   "outputs": [
    {
     "name": "stdout",
     "output_type": "stream",
     "text": [
      "I Play Hockey.\n",
      "I Play Football.\n",
      "I Love Hockey.\n",
      "I Love Football.\n",
      "You Play Hockey.\n",
      "You Play Football.\n",
      "You Love Hockey.\n",
      "You Love Football.\n"
     ]
    }
   ],
   "source": [
    "subjects = [\"I\", \"You\"]\n",
    "verbs = [\"Play\", \"Love\"]\n",
    "objects = [\"Hockey\", \"Football\"]\n",
    "\n",
    "sentences = []\n",
    "\n",
    "# nested loops to generate all possible combinations\n",
    "for subject in subjects:\n",
    "    for verb in verbs:\n",
    "        for obj in objects:\n",
    "            sentence = f\"{subject} {verb} {obj}.\"\n",
    "            sentences.append(sentence)\n",
    "\n",
    "# print all generated sentences\n",
    "for sentence in sentences:\n",
    "    print(sentence)\n"
   ]
  },
  {
   "cell_type": "markdown",
   "id": "c8fcf42e",
   "metadata": {},
   "source": [
    "Question 5:\n",
    "Please write a program to compress and decompress the string &quot;hello world!hello\n",
    "world!hello world!hello world!&quot;."
   ]
  },
  {
   "cell_type": "code",
   "execution_count": 5,
   "id": "904cb3c9",
   "metadata": {},
   "outputs": [
    {
     "name": "stdout",
     "output_type": "stream",
     "text": [
      "Compressed string: b'\\x1f\\x8b\\x08\\x00\\x8a\\xc3Od\\x02\\xff\\xcbH\\xcd\\xc9\\xc9W(\\xcf/\\xcaIQ\\xcc \\x82\\r\\x00\\xd3\\xe6\\xcf\\xae0\\x00\\x00\\x00'\n",
      "Decompressed string: hello world!hello world!hello world!hello world!\n"
     ]
    }
   ],
   "source": [
    "import gzip\n",
    "import io\n",
    "\n",
    "# Compressing the string\n",
    "input_str = \"hello world!hello world!hello world!hello world!\"\n",
    "input_bytes = input_str.encode('utf-8')\n",
    "compressed_bytes = io.BytesIO()\n",
    "with gzip.GzipFile(fileobj=compressed_bytes, mode='w') as f:\n",
    "    f.write(input_bytes)\n",
    "compressed_str = compressed_bytes.getvalue()\n",
    "\n",
    "# Decompressing the string\n",
    "compressed_bytes = io.BytesIO(compressed_str)\n",
    "decompressed_bytes = gzip.GzipFile(fileobj=compressed_bytes, mode='r').read()\n",
    "decompressed_str = decompressed_bytes.decode('utf-8')\n",
    "\n",
    "print(f\"Compressed string: {compressed_str}\")\n",
    "print(f\"Decompressed string: {decompressed_str}\")\n"
   ]
  },
  {
   "cell_type": "markdown",
   "id": "a0fb6a78",
   "metadata": {},
   "source": [
    "Question 6:\n",
    "Please write a binary search function which searches an item in a sorted list. The\n",
    "function should return the index of element to be searched in the list.\n"
   ]
  },
  {
   "cell_type": "code",
   "execution_count": 6,
   "id": "bdd4003f",
   "metadata": {},
   "outputs": [],
   "source": [
    "def binary_search(arr, x):\n",
    "    \"\"\"\n",
    "    Perform binary search on the sorted array `arr` to find the element `x`.\n",
    "    Return the index of the element if found, else return -1.\n",
    "    \"\"\"\n",
    "    low = 0\n",
    "    high = len(arr) - 1\n",
    "    \n",
    "    while low <= high:\n",
    "        mid = (low + high) // 2\n",
    "        if arr[mid] == x:\n",
    "            return mid\n",
    "        elif arr[mid] < x:\n",
    "            low = mid + 1\n",
    "        else:\n",
    "            high = mid - 1\n",
    "    \n",
    "    return -1\n"
   ]
  },
  {
   "cell_type": "code",
   "execution_count": null,
   "id": "2203438f",
   "metadata": {},
   "outputs": [],
   "source": []
  }
 ],
 "metadata": {
  "kernelspec": {
   "display_name": "Python 3 (ipykernel)",
   "language": "python",
   "name": "python3"
  },
  "language_info": {
   "codemirror_mode": {
    "name": "ipython",
    "version": 3
   },
   "file_extension": ".py",
   "mimetype": "text/x-python",
   "name": "python",
   "nbconvert_exporter": "python",
   "pygments_lexer": "ipython3",
   "version": "3.9.13"
  }
 },
 "nbformat": 4,
 "nbformat_minor": 5
}
