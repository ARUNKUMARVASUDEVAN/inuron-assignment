{
 "cells": [
  {
   "cell_type": "markdown",
   "id": "6a72465a",
   "metadata": {},
   "source": [
    "1. Add the current date to the text file today.txt as a string.\n",
    "\n"
   ]
  },
  {
   "cell_type": "code",
   "execution_count": 3,
   "id": "0eaae672",
   "metadata": {},
   "outputs": [
    {
     "data": {
      "text/plain": [
       "10"
      ]
     },
     "execution_count": 3,
     "metadata": {},
     "output_type": "execute_result"
    }
   ],
   "source": [
    "file=open('today.txt','w')\n",
    "file.write(\"01-05-2023\")"
   ]
  },
  {
   "cell_type": "markdown",
   "id": "a2511441",
   "metadata": {},
   "source": [
    "2. Read the text file today.txt into the string today_string"
   ]
  },
  {
   "cell_type": "code",
   "execution_count": 5,
   "id": "b68f0500",
   "metadata": {},
   "outputs": [
    {
     "data": {
      "text/plain": [
       "'01-05-2023'"
      ]
     },
     "execution_count": 5,
     "metadata": {},
     "output_type": "execute_result"
    }
   ],
   "source": [
    "file=open('today.txt','r')\n",
    "file.readline()"
   ]
  },
  {
   "cell_type": "markdown",
   "id": "202ac261",
   "metadata": {},
   "source": [
    "3. Parse the date from today_string."
   ]
  },
  {
   "cell_type": "code",
   "execution_count": 8,
   "id": "532b927d",
   "metadata": {},
   "outputs": [
    {
     "name": "stdout",
     "output_type": "stream",
     "text": [
      "2023-05-01\n"
     ]
    }
   ],
   "source": [
    "from datetime import datetime\n",
    "\n",
    "with open('today.txt', 'r') as f:\n",
    "    for line in f:\n",
    "        date_string = line.strip() \n",
    "        parse = datetime.strptime(date_string, '%d-%m-%Y')\n",
    "        print(parse.date())\n"
   ]
  },
  {
   "cell_type": "markdown",
   "id": "a53cfcc4",
   "metadata": {},
   "source": [
    "4. List the files in your current directory"
   ]
  },
  {
   "cell_type": "code",
   "execution_count": 11,
   "id": "1f5ea3f0",
   "metadata": {},
   "outputs": [],
   "source": [
    "import os\n",
    "dir=os.getcwd()"
   ]
  },
  {
   "cell_type": "code",
   "execution_count": 12,
   "id": "65f59b3e",
   "metadata": {},
   "outputs": [
    {
     "data": {
      "text/plain": [
       "'C:\\\\Users\\\\ARUN KUMAR V\\\\Assignments'"
      ]
     },
     "execution_count": 12,
     "metadata": {},
     "output_type": "execute_result"
    }
   ],
   "source": [
    "dir"
   ]
  },
  {
   "cell_type": "code",
   "execution_count": 14,
   "id": "1afa6cd1",
   "metadata": {},
   "outputs": [
    {
     "name": "stdout",
     "output_type": "stream",
     "text": [
      ".ipynb_checkpoints\n",
      "abda.txt\n",
      "Assignment 18.ipynb\n",
      "assignments 2.ipynb\n",
      "Assignment_17.ipynb\n",
      "Assignment_20.ipynb\n",
      "books.csv\n",
      "books.db\n",
      "msactive.cmd\n",
      "msactive.txt\n",
      "paper presentation.txt\n",
      "people.txt\n",
      "test.txt\n",
      "today.txt\n",
      "Untitled.ipynb\n",
      "Untitled1.ipynb\n",
      "Untitled10.ipynb\n",
      "Untitled11.ipynb\n",
      "Untitled12.ipynb\n",
      "Untitled13.ipynb\n",
      "Untitled14.ipynb\n",
      "Untitled15.ipynb\n",
      "Untitled2.ipynb\n",
      "Untitled3.ipynb\n",
      "Untitled4.ipynb\n",
      "Untitled5.ipynb\n",
      "Untitled6.ipynb\n",
      "Untitled7.ipynb\n",
      "Untitled8.ipynb\n",
      "Untitled9.ipynb\n",
      "zoo.py\n",
      "__pycache__\n"
     ]
    }
   ],
   "source": [
    "for file in os.listdir(dir):\n",
    "    print(file)"
   ]
  },
  {
   "cell_type": "markdown",
   "id": "93c4ef32",
   "metadata": {},
   "source": [
    "5. Create a list of all of the files in your parent directory (minimum five files should be available)."
   ]
  },
  {
   "cell_type": "code",
   "execution_count": 15,
   "id": "5e7e4fba",
   "metadata": {},
   "outputs": [],
   "source": [
    "\n",
    "parent_directory = os.path.abspath(os.path.join(os.getcwd(), os.pardir))\n",
    "files = [f for f in os.listdir(parent_directory) if os.path.isfile(os.path.join(parent_directory, f))]\n"
   ]
  },
  {
   "cell_type": "code",
   "execution_count": 16,
   "id": "86ff95be",
   "metadata": {},
   "outputs": [
    {
     "data": {
      "text/plain": [
       "['.condarc',\n",
       " '.gitconfig',\n",
       " '3142.db',\n",
       " 'A or B.ipynb',\n",
       " 'ak.db',\n",
       " 'Algerian_forest_fires_dataset_UPDATE (2).csv',\n",
       " 'Algerian_forest_fires_dataset_UPDATE.csv',\n",
       " 'aru.txt',\n",
       " 'arun.db',\n",
       " 'arun.txt',\n",
       " 'Assignment 1.ipynb',\n",
       " 'assignment 3.ipynb',\n",
       " 'Assignment1.ipynb',\n",
       " 'car.data',\n",
       " 'edb_languagepack.exe',\n",
       " 'example_module.py.ipynb',\n",
       " 'final model.ipynb',\n",
       " 'finalmodel.sav',\n",
       " 'finalmodelrf.sav',\n",
       " 'functions.ipynb',\n",
       " 'glass.data',\n",
       " 'google.txt',\n",
       " 'hotel.db',\n",
       " 'hotel.db-journal',\n",
       " 'india.csv',\n",
       " 'join.db',\n",
       " 'join.db-journal',\n",
       " 'list.log',\n",
       " 'model.pkl',\n",
       " 'My datascience projects.zip',\n",
       " 'mydict.py',\n",
       " 'mylibrary.py',\n",
       " 'mylibrary.txt',\n",
       " 'nba.csv',\n",
       " 'new 1.py',\n",
       " 'new1.py',\n",
       " 'NTUSER.DAT',\n",
       " 'ntuser.dat.LOG1',\n",
       " 'ntuser.dat.LOG2',\n",
       " 'NTUSER.DAT{a2332f18-cdbf-11ec-8680-002248483d79}.TM.blf',\n",
       " 'NTUSER.DAT{a2332f18-cdbf-11ec-8680-002248483d79}.TMContainer00000000000000000001.regtrans-ms',\n",
       " 'NTUSER.DAT{a2332f18-cdbf-11ec-8680-002248483d79}.TMContainer00000000000000000002.regtrans-ms',\n",
       " 'ntuser.ini',\n",
       " 'om.db',\n",
       " 'om.db-journal',\n",
       " 'pandas day 2.ipynb',\n",
       " 'pemhttpd.exe',\n",
       " 'pest detect kee project.ipynb',\n",
       " 'pest Detection final project keer.ipynb',\n",
       " 'png.db',\n",
       " 'png.db-journal',\n",
       " 'postgis_3_3_pg15.exe',\n",
       " 'postgresql_10.exe',\n",
       " 'postgresql_10.exe-20221121180237',\n",
       " 'proj',\n",
       " 'Project',\n",
       " 'Project model selection.ipynb',\n",
       " 'Randomforest.pkl',\n",
       " 'Review Scrapper.ipynb',\n",
       " 'revision.txt',\n",
       " 'sql.db',\n",
       " 'tessts.txt',\n",
       " 'test.log',\n",
       " 'test1.csv',\n",
       " 'test1.py',\n",
       " 'test1.txt',\n",
       " 'text1.txt',\n",
       " 'train.txt',\n",
       " 'Untitled.ipynb',\n",
       " 'Untitled1.ipynb',\n",
       " 'Untitled10.ipynb',\n",
       " 'Untitled11.ipynb',\n",
       " 'Untitled12.ipynb',\n",
       " 'Untitled13.ipynb',\n",
       " 'Untitled14.ipynb',\n",
       " 'Untitled15.ipynb',\n",
       " 'Untitled16.ipynb',\n",
       " 'Untitled17.ipynb',\n",
       " 'Untitled18.ipynb',\n",
       " 'Untitled19.ipynb',\n",
       " 'Untitled2.ipynb',\n",
       " 'Untitled20.ipynb',\n",
       " 'Untitled21.ipynb',\n",
       " 'Untitled22.ipynb',\n",
       " 'Untitled23.ipynb',\n",
       " 'Untitled24.ipynb',\n",
       " 'Untitled25.ipynb',\n",
       " 'Untitled26.ipynb',\n",
       " 'Untitled27.ipynb',\n",
       " 'Untitled28.ipynb',\n",
       " 'Untitled29.ipynb',\n",
       " 'Untitled3.ipynb',\n",
       " 'Untitled30.ipynb',\n",
       " 'Untitled31.ipynb',\n",
       " 'Untitled32.ipynb',\n",
       " 'Untitled33.ipynb',\n",
       " 'Untitled34.ipynb',\n",
       " 'Untitled35.ipynb',\n",
       " 'Untitled36.ipynb',\n",
       " 'Untitled37.ipynb',\n",
       " 'Untitled38.ipynb',\n",
       " 'Untitled39.ipynb',\n",
       " 'Untitled4.ipynb',\n",
       " 'Untitled40.ipynb',\n",
       " 'Untitled41.ipynb',\n",
       " 'Untitled42.ipynb',\n",
       " 'Untitled43.ipynb',\n",
       " 'Untitled44.ipynb',\n",
       " 'Untitled45.ipynb',\n",
       " 'Untitled46.ipynb',\n",
       " 'Untitled5.ipynb',\n",
       " 'Untitled6.ipynb',\n",
       " 'Untitled7.ipynb',\n",
       " 'Untitled8.ipynb',\n",
       " 'Untitled9.ipynb',\n",
       " 'UpdatedResumeDataSet.csv']"
      ]
     },
     "execution_count": 16,
     "metadata": {},
     "output_type": "execute_result"
    }
   ],
   "source": [
    "files"
   ]
  },
  {
   "cell_type": "markdown",
   "id": "04a903eb",
   "metadata": {},
   "source": [
    "6. Use multiprocessing to create three separate processes. Make each one wait a random number of seconds between one and five, print the current time, and then exit."
   ]
  },
  {
   "cell_type": "code",
   "execution_count": 18,
   "id": "fa30ce45",
   "metadata": {},
   "outputs": [],
   "source": [
    "import multiprocessing\n",
    "import random\n",
    "import time\n",
    "from datetime import datetime\n",
    "\n",
    "def worker():\n",
    "    wait_time = random.randint(1, 5)\n",
    "    time.sleep(wait_time)\n",
    "    print(f\"Process {multiprocessing.current_process().name} waited for {wait_time} seconds and finished at {datetime.now()}\")\n",
    "\n",
    "if __name__ == '__main__':\n",
    "    for i in range(3):\n",
    "        p = multiprocessing.Process(target=worker, name=f\"Process-{i}\")\n",
    "        p.start()\n"
   ]
  },
  {
   "cell_type": "markdown",
   "id": "90837d66",
   "metadata": {},
   "source": [
    "7. Create a date object of your day of birth."
   ]
  },
  {
   "cell_type": "code",
   "execution_count": 21,
   "id": "95701194",
   "metadata": {},
   "outputs": [
    {
     "name": "stdout",
     "output_type": "stream",
     "text": [
      "2001-09-05\n"
     ]
    }
   ],
   "source": [
    "from datetime import date\n",
    "\n",
    "birth_date = date(2001,9 ,5)\n",
    "print(birth_date)\n"
   ]
  },
  {
   "cell_type": "markdown",
   "id": "d3085f53",
   "metadata": {},
   "source": [
    "8. What day of the week was your day of birth?"
   ]
  },
  {
   "cell_type": "code",
   "execution_count": 22,
   "id": "3896eb46",
   "metadata": {},
   "outputs": [
    {
     "name": "stdout",
     "output_type": "stream",
     "text": [
      "My day of birth (2001-09-09) falls on a Sunday.\n"
     ]
    }
   ],
   "source": [
    "from datetime import date\n",
    "\n",
    "birth_date = date(2001, 9, 9)\n",
    "weekday_names = ['Monday', 'Tuesday', 'Wednesday', 'Thursday', 'Friday', 'Saturday', 'Sunday']\n",
    "weekday_index = birth_date.weekday()\n",
    "weekday_name = weekday_names[weekday_index]\n",
    "print(f\"My day of birth ({birth_date}) falls on a {weekday_name}.\")\n"
   ]
  },
  {
   "cell_type": "markdown",
   "id": "8f83c293",
   "metadata": {},
   "source": [
    "9. When will you be (or when were you) 10,000 days old?"
   ]
  },
  {
   "cell_type": "code",
   "execution_count": 26,
   "id": "de412213",
   "metadata": {},
   "outputs": [
    {
     "name": "stdout",
     "output_type": "stream",
     "text": [
      "You will be (or were) 10,000 days old on 2029-01-25.\n"
     ]
    }
   ],
   "source": [
    "from datetime import date, timedelta\n",
    "\n",
    "birth_date = date(2001, 9, 9)\n",
    "days_to_add = 10000\n",
    "future_date = birth_date + timedelta(days=days_to_add)\n",
    "\n",
    "print(f\"You will be (or were) 10,000 days old on {future_date}.\")\n"
   ]
  },
  {
   "cell_type": "code",
   "execution_count": null,
   "id": "4bb86042",
   "metadata": {},
   "outputs": [],
   "source": []
  }
 ],
 "metadata": {
  "kernelspec": {
   "display_name": "Python 3 (ipykernel)",
   "language": "python",
   "name": "python3"
  },
  "language_info": {
   "codemirror_mode": {
    "name": "ipython",
    "version": 3
   },
   "file_extension": ".py",
   "mimetype": "text/x-python",
   "name": "python",
   "nbconvert_exporter": "python",
   "pygments_lexer": "ipython3",
   "version": "3.9.13"
  }
 },
 "nbformat": 4,
 "nbformat_minor": 5
}
