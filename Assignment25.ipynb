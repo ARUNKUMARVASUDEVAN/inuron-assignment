{
 "cells": [
  {
   "cell_type": "markdown",
   "id": "92c4a288",
   "metadata": {},
   "source": [
    "1) . What is the difference between enclosing a list comprehension in square brackets and\n",
    "parentheses?"
   ]
  },
  {
   "cell_type": "markdown",
   "id": "11cda440",
   "metadata": {},
   "source": [
    "The difference between enclosing a list comprehension in square brackets and parentheses is in the type of object that is created.\n",
    "\n",
    "When a list comprehension is enclosed in square brackets, a new list object is created. The elements of the list are the result of evaluating the expression in the comprehension for each item in the iterable.\n",
    "\n",
    "For example:\n",
    "\n",
    "```\n",
    ">>> [x**2 for x in range(5)]\n",
    "[0, 1, 4, 9, 16]\n",
    "```\n",
    "\n",
    "In this case, the list comprehension creates a new list object containing the squares of the integers from 0 to 4.\n",
    "\n",
    "When a list comprehension is enclosed in parentheses, a generator object is created. A generator is an iterator that computes the values on-the-fly as they are requested, rather than creating the entire sequence at once. Generators are useful when dealing with large sequences that may not fit in memory all at once.\n",
    "\n",
    "For example:\n",
    "\n",
    "```\n",
    ">>> (x**2 for x in range(5))\n",
    "<generator object <genexpr> at 0x7f7b2a2b55f0>\n",
    "```\n",
    "\n",
    "In this case, the list comprehension creates a generator object that can be used to iterate over the squares of the integers from 0 to 4, without creating a new list object in memory.\n",
    "\n",
    "In summary, using square brackets creates a list object that contains all the elements, while using parentheses creates a generator object that computes the elements on-the-fly."
   ]
  },
  {
   "cell_type": "markdown",
   "id": "2e79b6bf",
   "metadata": {},
   "source": [
    "2) What is the relationship between generators and iterators?"
   ]
  },
  {
   "cell_type": "markdown",
   "id": "afc6ed44",
   "metadata": {},
   "source": [
    "Generators and iterators are related concepts in Python, as generators are a type of iterator.\n",
    "\n",
    "An iterator is an object that can be iterated (looped) upon, meaning it can return its elements one at a time. Iterators implement two methods, `__iter__()` and `__next__()`, that allow them to be used in a for loop or with the `next()` function. The `__iter__()` method returns the iterator object itself, and the `__next__()` method returns the next element in the sequence. When there are no more elements, `__next__()` raises the `StopIteration` exception.\n",
    "\n",
    "A generator is a special type of iterator that is created using a function rather than a class. Generators use the `yield` statement to return values from the function, and each time the `yield` statement is executed, the generator's state is saved. The next time the generator is called, it resumes execution from where it left off, instead of starting over from the beginning. This makes generators more memory-efficient than regular iterators, since they do not need to store the entire sequence in memory at once.\n",
    "\n",
    "For example, consider the following generator function that generates the squares of numbers from 1 to 5:\n",
    "\n",
    "```\n",
    "def square_generator():\n",
    "    for i in range(1, 6):\n",
    "        yield i**2\n",
    "```\n",
    "\n",
    "This generator function can be used to iterate over the squares of the numbers using a for loop, just like a regular iterator:\n",
    "\n",
    "```\n",
    "for x in square_generator():\n",
    "    print(x)\n",
    "```\n",
    "\n",
    "This will output:\n",
    "\n",
    "```\n",
    "1\n",
    "4\n",
    "9\n",
    "16\n",
    "25\n",
    "```\n",
    "\n",
    "In summary, generators are a type of iterator that are created using functions and use the `yield` statement to return values. They allow for efficient generation of sequences that may be too large to fit in memory all at once."
   ]
  },
  {
   "cell_type": "markdown",
   "id": "5672adad",
   "metadata": {},
   "source": [
    "3) What are the signs that a function is a generator function?"
   ]
  },
  {
   "cell_type": "markdown",
   "id": "0859ab6f",
   "metadata": {},
   "source": [
    "There are several signs that indicate that a function is a generator function in Python:\n",
    "\n",
    "1. The function contains the `yield` keyword: A generator function is a function that contains the `yield` keyword at least once. The `yield` statement is used to return a value from the function and save the function's state, so that the function can be resumed later from where it left off.\n",
    "\n",
    "2. The function returns a generator object: When a generator function is called, it does not actually execute the function body immediately, but instead returns a generator object. The generator object is an iterator that can be used to iterate over the values produced by the generator function.\n",
    "\n",
    "3. The function has a different control flow than a regular function: Generator functions have a different control flow than regular functions, since they can be paused and resumed. When a generator function is called, it does not execute the entire function body at once, but instead executes the function body until it reaches the first `yield` statement. When the generator is resumed, execution resumes from where it left off, until it reaches the next `yield` statement, and so on.\n",
    "\n",
    "For example, consider the following generator function that generates the Fibonacci sequence:\n",
    "\n",
    "```\n",
    "def fibonacci():\n",
    "    a, b = 0, 1\n",
    "    while True:\n",
    "        yield a\n",
    "        a, b = b, a + b\n",
    "```\n",
    "\n",
    "This function is a generator function because it contains the `yield` statement, returns a generator object, and has a different control flow than a regular function.\n",
    "\n",
    "To use the generator function, we can create a generator object by calling the function, and then use a for loop or the `next()` function to iterate over the values:\n",
    "\n",
    "```\n",
    "fib = fibonacci()\n",
    "for i in range(10):\n",
    "    print(next(fib))\n",
    "```\n",
    "\n",
    "This will output the first 10 values of the Fibonacci sequence:\n",
    "\n",
    "```\n",
    "0\n",
    "1\n",
    "1\n",
    "2\n",
    "3\n",
    "5\n",
    "8\n",
    "13\n",
    "21\n",
    "34\n",
    "```"
   ]
  },
  {
   "cell_type": "markdown",
   "id": "45c8ad79",
   "metadata": {},
   "source": [
    "4) What is the purpose of a yield statement?"
   ]
  },
  {
   "cell_type": "markdown",
   "id": "d7767a1a",
   "metadata": {},
   "source": [
    "The `yield` statement is used in Python to define a generator function. The purpose of the `yield` statement is to return a value from the generator function and save the state of the function, so that it can be resumed later from where it left off.\n",
    "\n",
    "When a `yield` statement is executed in a generator function, it returns the value after the `yield` keyword, and suspends the function's execution. The next time the function is called, it resumes execution from where it left off, and continues until it encounters another `yield` statement or reaches the end of the function.\n",
    "\n",
    "In this way, the `yield` statement allows a generator function to generate a sequence of values on-the-fly, without having to compute all the values at once and store them in memory. This makes generators memory-efficient and allows them to generate very large sequences.\n",
    "\n",
    "For example, consider the following generator function that generates the squares of numbers from 1 to 5:\n",
    "\n",
    "```\n",
    "def square_generator():\n",
    "    for i in range(1, 6):\n",
    "        yield i**2\n",
    "```\n",
    "\n",
    "When this function is called, it returns a generator object, which can be used to iterate over the sequence of squares. Each time the `next()` function is called on the generator object, the function resumes execution from where it left off, computes the next square, and returns it:\n",
    "\n",
    "```\n",
    "gen = square_generator()\n",
    "print(next(gen)) # prints 1\n",
    "print(next(gen)) # prints 4\n",
    "print(next(gen)) # prints 9\n",
    "print(next(gen)) # prints 16\n",
    "print(next(gen)) # prints 25\n",
    "```\n",
    "\n",
    "In this example, the `yield` statement is used to return the squares of the numbers one at a time, and save the state of the function between calls, so that it can resume computation where it left off."
   ]
  },
  {
   "cell_type": "markdown",
   "id": "6a4bbc76",
   "metadata": {},
   "source": [
    "5) What is the relationship between map calls and list comprehensions? Make a comparison and\n",
    "contrast between the two."
   ]
  },
  {
   "cell_type": "markdown",
   "id": "d78d54d7",
   "metadata": {},
   "source": [
    "Both `map()` calls and list comprehensions in Python are used to apply a function to a sequence of elements and generate a new sequence of values based on the original sequence. However, there are some differences between the two:\n",
    "\n",
    "1. Syntax: List comprehensions have a simpler and more concise syntax than `map()` calls. List comprehensions are enclosed in square brackets and use a compact syntax for expressing the operation to be applied to each element. On the other hand, `map()` calls require a lambda function or a named function to be defined separately, and the operation is applied using the `map()` function.\n",
    "\n",
    "2. Type of result: List comprehensions always return a list, while `map()` calls return an iterator that can be converted to a list if needed. This means that list comprehensions can be more memory-intensive than `map()` calls for large sequences, since they generate the entire sequence in memory at once.\n",
    "\n",
    "3. Functionality: `map()` calls can be more flexible than list comprehensions, since they can apply a function to multiple sequences simultaneously. List comprehensions only allow applying an operation to a single sequence at a time. However, this flexibility comes at the cost of more complex syntax and potentially slower performance.\n",
    "\n",
    "Here is an example that shows the difference between a `map()` call and a list comprehension that perform the same operation:\n",
    "\n",
    "```\n",
    "# Using a map() call\n",
    "nums = [1, 2, 3, 4, 5]\n",
    "squares = map(lambda x: x**2, nums)\n",
    "print(list(squares))  # prints [1, 4, 9, 16, 25]\n",
    "\n",
    "# Using a list comprehension\n",
    "nums = [1, 2, 3, 4, 5]\n",
    "squares = [x**2 for x in nums]\n",
    "print(squares)  # prints [1, 4, 9, 16, 25]\n",
    "```\n",
    "\n",
    "In this example, both the `map()` call and the list comprehension generate a new sequence of squares from the original sequence of numbers. However, the list comprehension has a simpler syntax and returns a list directly, while the `map()` call requires an additional step to convert the iterator to a list using the `list()` function."
   ]
  }
 ],
 "metadata": {
  "kernelspec": {
   "display_name": "Python 3 (ipykernel)",
   "language": "python",
   "name": "python3"
  },
  "language_info": {
   "codemirror_mode": {
    "name": "ipython",
    "version": 3
   },
   "file_extension": ".py",
   "mimetype": "text/x-python",
   "name": "python",
   "nbconvert_exporter": "python",
   "pygments_lexer": "ipython3",
   "version": "3.9.13"
  }
 },
 "nbformat": 4,
 "nbformat_minor": 5
}
