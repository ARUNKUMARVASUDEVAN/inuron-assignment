{
 "cells": [
  {
   "cell_type": "raw",
   "id": "f489f5fe",
   "metadata": {},
   "source": [
    "1)\n",
    "What are the two values of the Boolean data type? How do you write them?\n",
    "\n",
    "Ans)\n",
    "\n",
    "Two values are True and False\n",
    "should be written by starting Capital T and F like :True  ,False"
   ]
  },
  {
   "cell_type": "raw",
   "id": "d859a179",
   "metadata": {},
   "source": [
    "\n",
    "2. What are the three different types of Boolean operators?\n",
    "\n",
    "Ans:\n",
    "And,Or,Not these are the operators we are using inside the boolean values\n",
    "\n",
    "\n",
    "And operator (&):\n",
    "\n",
    " It returns True both the values are true otherwise false\n",
    "Or operator(|):\n",
    "\n",
    " It returns true if any one value is true.It gives only false on by both the values are false\n",
    "Not operator(~):\n",
    "\n",
    " It returns opposite of the boolean values like if the given value is true it will return false if the value is false it return true\n",
    " \n",
    "\n",
    "\n"
   ]
  },
  {
   "cell_type": "raw",
   "id": "e7d468fa",
   "metadata": {},
   "source": [
    "3. Make a list of each Boolean operator's truth tables (i.e. every possible combination of Boolean values for the operator and what it evaluate ).\n",
    "\n",
    "And:\n",
    " A | B| A & B\n",
    " T   T    T\n",
    " T   F    F\n",
    " F   T    F\n",
    " F   F    F\n",
    " \n",
    "OR:\n",
    " A | B| A or B\n",
    " T   T   T\n",
    " T   F   T\n",
    " F   T   T\n",
    " F   F   F\n",
    " \n",
    "Not:\n",
    " A | Not A\n",
    " T   F\n",
    " F   T\n",
    " "
   ]
  },
  {
   "cell_type": "raw",
   "id": "81706011",
   "metadata": {},
   "source": [
    "\n",
    "4. What are the values of the following expressions?\n",
    "(5 > 4) and (3 == 5)\n",
    "not (5 > 4)\n",
    "(5 > 4) or (3 == 5)\n",
    "not ((5 > 4) or (3 == 5))\n",
    "(True and True) and (True == False)\n",
    "(not False) or (not True)\n",
    "Ans:\n",
    "(5 > 4) and (3 == 5) =====False\n",
    "\n",
    "(5 > 4) or (3 == 5)  =====True\n",
    "\n",
    "not ((5 > 4) or (3 == 5))   ====False\n",
    "\n",
    "(True and True) and (True == False) ====False\n",
    "\n",
    "(not False) or (not True)  ====True\n",
    "\n",
    "\n",
    "\n",
    "\n",
    "\n",
    "\n",
    "\n",
    "\n",
    "\n"
   ]
  },
  {
   "cell_type": "raw",
   "id": "927563a9",
   "metadata": {},
   "source": [
    "5. What are the six comparison operators?\n",
    "\n",
    "Ans:\n",
    "    Six Operators are '==','>','<','>=','<=','!='\n",
    "\n",
    "Every operator is used to check different conditions\n",
    "'==':\n",
    "    is used to check if both the values are equal if it is equal it will return True if not It returns false\n",
    " '>' :\n",
    "    is used to check if left value is greater than the right value ,If the condition id true it return True,otherwise false\n",
    "    \n",
    " '<':\n",
    "    used to check if left value is less than the right value\n",
    "    \n",
    " '>=':\n",
    "    is used to check if the left value is greater than equal to right\n",
    "    \n",
    "  '<=':\n",
    "   is used to check if the left value is less than or equal to right value\n",
    "   \n",
    "   '!=':\n",
    "   is used to check if the value are not equal with them\n",
    "   \n"
   ]
  },
  {
   "cell_type": "raw",
   "id": "c2ce7f5c",
   "metadata": {},
   "source": [
    "6. How do you tell the difference between the equal to and assignment operators?Describe a condition and when you would use one.\n",
    "ans:\n",
    "\n",
    "Assignment operator is used when assigning a value to a variable\n",
    "\n",
    "x=5\n",
    "\n",
    "Equal to is used when we check the values or condition for a specific values\n",
    "\n",
    "if age==18:\n",
    "      print('get ready to be a part in contry future')"
   ]
  },
  {
   "cell_type": "raw",
   "id": "976dd7ff",
   "metadata": {},
   "source": [
    "\n",
    "7. Identify the three blocks in this code:\n",
    "spam = 0\n",
    "if spam == 10:\n",
    "print('eggs')\n",
    "if spam > 5:\n",
    "print('bacon')\n",
    "else:\n",
    "print('ham')\n",
    "print('spam')\n",
    "print('spam')\n",
    "\n",
    "Ans:\n",
    "1:if spam == 10:\n",
    "print('eggs')\n",
    "\n",
    "2:if spam > 5:\n",
    "print('bacon')\n",
    "\n",
    "3:else:\n",
    "print('ham')\n",
    "print('spam')\n",
    "print('spam')\n",
    "\n",
    "\n"
   ]
  },
  {
   "cell_type": "raw",
   "id": "7422d34a",
   "metadata": {},
   "source": [
    "8. Write code that prints Hello if 1 is stored in spam, prints Howdy if 2 is stored in spam, and prints Greetings! if anything else is stored in spam.\n",
    "\n",
    "Ans:\n",
    "spam=0\n",
    "if spam==1:\n",
    "    print('Hello')\n",
    "elif spam==2:\n",
    "    print('Howdy')\n",
    "else:\n",
    "    print('Greetings')\n"
   ]
  },
  {
   "cell_type": "raw",
   "id": "7aeb9141",
   "metadata": {},
   "source": [
    "\n",
    "9.If your programme is stuck in an endless loop, what keys you’ll press?\n",
    "\n",
    "ans:\n",
    "CTRL + C\n",
    "\n"
   ]
  },
  {
   "cell_type": "raw",
   "id": "ce304139",
   "metadata": {},
   "source": [
    "10. How can you tell the difference between break and continue?\n",
    "ans:\n",
    "'Break':\n",
    "  break is used to exit a loop when a certain conditions met.It will  terminate the loop statement\n",
    "'continue':\n",
    "  is used to skip the current iteration and jumps to nest iteration"
   ]
  },
  {
   "cell_type": "raw",
   "id": "ed4fee5d",
   "metadata": {},
   "source": [
    "11. In a for loop, what is the difference between range(10), range(0, 10), and range(0, 10, 1)?\n",
    "\n",
    "Ans:\n",
    "Range(10): Prints from 0 to 9 by dafault it will print from 0 to 9 by diiference of 1\n",
    "Range(0,10): Prints from 0 to 9 default step is 1\n",
    "Range(0,10,1): Prints from 0 to 9 with the step 1"
   ]
  },
  {
   "cell_type": "raw",
   "id": "78032c29",
   "metadata": {},
   "source": [
    "12. Write a short program that prints the numbers 1 to 10 using a for loop. Then write an equivalent program that prints the numbers 1 to 10 using a while loop.\n",
    "\n",
    "Ans:\n",
    "\n",
    "for i in range(0,11):\n",
    "    print(i)\n",
    "    \n",
    "\n",
    "i=1\n",
    "while i<=10:\n",
    "    print(i)\n",
    "    i+=1\n",
    "   "
   ]
  },
  {
   "cell_type": "raw",
   "id": "172b7926",
   "metadata": {},
   "source": [
    "13. If you had a function named bacon() inside a module named spam, how would you call it after importing spam?\n",
    "ans:\n",
    "from spam import bacon\n",
    "b=bacon()"
   ]
  }
 ],
 "metadata": {
  "kernelspec": {
   "display_name": "Python 3 (ipykernel)",
   "language": "python",
   "name": "python3"
  },
  "language_info": {
   "codemirror_mode": {
    "name": "ipython",
    "version": 3
   },
   "file_extension": ".py",
   "mimetype": "text/x-python",
   "name": "python",
   "nbconvert_exporter": "python",
   "pygments_lexer": "ipython3",
   "version": "3.11.0"
  }
 },
 "nbformat": 4,
 "nbformat_minor": 5
}
