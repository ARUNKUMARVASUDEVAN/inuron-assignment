{
 "cells": [
  {
   "cell_type": "markdown",
   "id": "a93a99e7",
   "metadata": {},
   "source": [
    "1. In the below elements which of them are values or an expression? eg:- values can be integer or string and expressions will be mathematical operators.\n",
    "* \n",
    "'hello'\n",
    "-87.8\n",
    "- \n",
    "/ \n",
    "+\t\n",
    "6 \n"
   ]
  },
  {
   "cell_type": "markdown",
   "id": "1dca6ddc",
   "metadata": {},
   "source": [
    "Answer:\n",
    "\n",
    "     values: \"hello\",87.8,6\n",
    "     expressions: /,+"
   ]
  },
  {
   "cell_type": "markdown",
   "id": "3d137eca",
   "metadata": {},
   "source": [
    "2. What is the difference between string and variable?"
   ]
  },
  {
   "cell_type": "markdown",
   "id": "f8ca7ba3",
   "metadata": {},
   "source": [
    "Answer:\n",
    "    \n",
    "    \n",
    "    String:\n",
    "        is a inbuild data type, It is a collection of characters     which is immutable in nature\n",
    "    \n",
    "    \n",
    "    Variable:\n",
    "        is a user defined storage name for an element which is stored inside the RAM of system.It can be accessible throughout entire code."
   ]
  },
  {
   "cell_type": "markdown",
   "id": "be7930d3",
   "metadata": {},
   "source": [
    "3. Describe three different data types."
   ]
  },
  {
   "cell_type": "markdown",
   "id": "3eb5dd2d",
   "metadata": {},
   "source": [
    "Answer:\n",
    "    Integer(Numeric),String,Bool\n",
    "    \n",
    "    Integer:(int) Natural numbers or whole numbers without any decimal points.\n",
    "        \n",
    "    \n",
    "    String:It is represented as in python with quotation marks,immutable in nature\n",
    "    \n",
    "    Bool:Boolean gives a method is true or false on the code"
   ]
  },
  {
   "cell_type": "markdown",
   "id": "9908397b",
   "metadata": {},
   "source": [
    "4. What is an expression made up of? What do all expressions do?"
   ]
  },
  {
   "cell_type": "markdown",
   "id": "44e37dfa",
   "metadata": {},
   "source": [
    "Answer:\n",
    "\n",
    "\n",
    "expression is made up of operators, that will represent actions to produce some other values.Basically +,-,*,/  these are the basic operators which do calculations on the computer,expressions also have the constants and variables.\n"
   ]
  },
  {
   "cell_type": "markdown",
   "id": "05083c70",
   "metadata": {},
   "source": [
    "5. This assignment statements, like spam = 10. What is the difference between an expression and a statement?"
   ]
  },
  {
   "cell_type": "markdown",
   "id": "2d66839e",
   "metadata": {},
   "source": [
    "Answer:\n",
    "    \n",
    "    statement is an instruction that python interpretor can execute on the environment.\n",
    "    expression is made up of operators, that will represent actions to produce some other values\n",
    "    "
   ]
  },
  {
   "cell_type": "markdown",
   "id": "d890929c",
   "metadata": {},
   "source": [
    "6. After running the following code, what does the variable bacon contain?\n",
    "bacon = 22\n",
    "bacon + 1\n"
   ]
  },
  {
   "cell_type": "markdown",
   "id": "eda605f0",
   "metadata": {},
   "source": [
    "Answer:\n",
    "    22"
   ]
  },
  {
   "cell_type": "markdown",
   "id": "bb67d4b8",
   "metadata": {},
   "source": [
    "7. What should the values of the following two terms be?\n",
    "'spam' + 'spamspam'\n",
    "'spam' * 3\n"
   ]
  },
  {
   "cell_type": "markdown",
   "id": "2d64c79c",
   "metadata": {},
   "source": [
    "Answer:\n",
    "    'spam'+'spamspam' = 'spamspamspam'\n",
    "    \n",
    "    \n",
    "   'spam'*3         = 'spamspamspam'"
   ]
  },
  {
   "cell_type": "markdown",
   "id": "675c34a1",
   "metadata": {},
   "source": [
    "8. Why is eggs a valid variable name while 100 is invalid?"
   ]
  },
  {
   "cell_type": "markdown",
   "id": "12dff882",
   "metadata": {},
   "source": [
    "Answer:\n",
    "By built the python environment everything has a rule,so by built eggs is correct way to give variable name.\n",
    "A variable name must start with a letter or the underscore character.variable name cannot start with a number."
   ]
  },
  {
   "cell_type": "markdown",
   "id": "369149b5",
   "metadata": {},
   "source": [
    "9. What three functions can be used to get the integer, floating-point number, or string version of a value?"
   ]
  },
  {
   "cell_type": "markdown",
   "id": "f656f8e2",
   "metadata": {},
   "source": [
    "Answer:\n",
    "      int(),float(),str()"
   ]
  },
  {
   "cell_type": "markdown",
   "id": "77ec7060",
   "metadata": {},
   "source": [
    "10. Why does this expression cause an error? How can you fix it?\n",
    "'I have eaten ' + 99 + ' burritos.'\n"
   ]
  },
  {
   "cell_type": "markdown",
   "id": "64fea4df",
   "metadata": {},
   "source": [
    "Answer:\n",
    "    Change the number 99 into '99' and execute :'I have eaten'+'99'+'burritos'"
   ]
  },
  {
   "cell_type": "code",
   "execution_count": null,
   "id": "6d852db3",
   "metadata": {},
   "outputs": [],
   "source": []
  }
 ],
 "metadata": {
  "kernelspec": {
   "display_name": "Python 3 (ipykernel)",
   "language": "python",
   "name": "python3"
  },
  "language_info": {
   "codemirror_mode": {
    "name": "ipython",
    "version": 3
   },
   "file_extension": ".py",
   "mimetype": "text/x-python",
   "name": "python",
   "nbconvert_exporter": "python",
   "pygments_lexer": "ipython3",
   "version": "3.11.0"
  }
 },
 "nbformat": 4,
 "nbformat_minor": 5
}
